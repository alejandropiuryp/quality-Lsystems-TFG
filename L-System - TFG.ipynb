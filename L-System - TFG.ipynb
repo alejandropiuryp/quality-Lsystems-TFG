{
 "cells": [
  {
   "cell_type": "code",
   "execution_count": 36,
   "metadata": {},
   "outputs": [
    {
     "name": "stdout",
     "output_type": "stream",
     "text": [
      "Requirement already satisfied: pydot in d:\\universidad de sevilla\\ia\\anaconda\\lib\\site-packages (1.4.2)\n",
      "Requirement already satisfied: pyparsing>=2.1.4 in d:\\universidad de sevilla\\ia\\anaconda\\lib\\site-packages (from pydot) (2.4.7)\n"
     ]
    }
   ],
   "source": [
    "#!pip install beautifulsoup4\n",
    "#!pip install requests\n",
    "#!pip install tk\n",
    "#!pip install pillow\n",
    "#!pip install python-dotenv\n",
    "#!pip install livelossplot\n",
    "#!pip install pydot"
   ]
  },
  {
   "cell_type": "code",
   "execution_count": 1,
   "metadata": {},
   "outputs": [],
   "source": [
    "import requests\n",
    "import csv\n",
    "import json\n",
    "from bs4 import BeautifulSoup\n",
    "import re\n",
    "import math\n",
    "import random\n",
    "import statistics\n",
    "import tkinter\n",
    "import turtle\n",
    "import numpy as np\n",
    "from matplotlib.backends.backend_tkagg import FigureCanvasTkAgg\n",
    "from matplotlib.figure import Figure\n",
    "from tkinter import messagebox\n",
    "import matplotlib.pyplot as plt\n",
    "import os\n",
    "from dotenv import load_dotenv,dotenv_values\n",
    "import pandas as pd\n",
    "import tensorflow as tf\n",
    "from sklearn.model_selection import train_test_split\n",
    "from keras.preprocessing.sequence import pad_sequences\n",
    "from tensorflow.keras.models import Sequential\n",
    "from tensorflow.keras.layers import Embedding\n",
    "from tensorflow.keras.layers import Dense\n",
    "from tensorflow.keras.layers import Input\n",
    "from tensorflow.keras.layers import Flatten\n",
    "from tensorflow.keras.layers import Reshape\n",
    "from tensorflow.keras.layers import Conv1D, Conv2D, Conv3D\n",
    "from tensorflow.keras.layers import MaxPooling1D, MaxPooling2D\n",
    "from tensorflow.keras.layers import Dropout\n",
    "from tensorflow.keras.layers import Activation\n",
    "from tensorflow.keras.layers import LSTM\n",
    "from tensorflow.keras.layers import Bidirectional\n",
    "from tensorflow.keras.layers import UpSampling1D\n",
    "from tensorflow.keras.layers import concatenate\n",
    "from tensorflow.keras import Model\n",
    "from tensorflow.keras.regularizers import l2\n",
    "from tensorflow.keras.regularizers import l1_l2\n",
    "from tensorflow.keras.callbacks import ReduceLROnPlateau\n",
    "from tensorflow.keras.optimizers import Adam\n",
    "from tensorflow.keras.utils import to_categorical\n",
    "from tensorflow.keras.models import load_model\n",
    "from tensorflow.keras.utils import plot_model\n",
    "from livelossplot import PlotLossesKeras\n",
    "from sklearn.dummy import DummyRegressor\n",
    "from sklearn.metrics import mean_squared_error\n",
    "import seaborn as sns"
   ]
  },
  {
   "cell_type": "markdown",
   "metadata": {},
   "source": [
    "# Construcción del DataSet"
   ]
  },
  {
   "cell_type": "markdown",
   "metadata": {},
   "source": [
    "## Inicialización y utilidades"
   ]
  },
  {
   "cell_type": "code",
   "execution_count": 2,
   "metadata": {},
   "outputs": [],
   "source": [
    "load_dotenv()\n",
    "config = dotenv_values(\"token.env\")\n",
    "bearer = config[\"bearer\"]\n",
    "\n",
    "tweets_file = 'tweets.csv'\n",
    "file = 'dataSet.csv'\n",
    "wellKnown_file = 'wellknown.csv'\n",
    "GLOBAL_RULES = set()\n",
    "\n",
    "#Iniciacilización de las reglas globales\n",
    "if os.path.exists(file):\n",
    "    with open(file) as file_csv:\n",
    "        lines = csv.reader(file_csv)\n",
    "        for row in lines:\n",
    "            GLOBAL_RULES.add(row[1])\n",
    "\n",
    "def add_system(file,system):\n",
    "    with open(file, 'a',newline='') as f_csv:\n",
    "        writer = csv.writer(f_csv)\n",
    "        GLOBAL_RULES.add(json.dumps(system['Rules']))\n",
    "        writer.writerow([system['Start'],str(system['Rules']),system['Angle'],system['Likes']])"
   ]
  },
  {
   "cell_type": "markdown",
   "metadata": {},
   "source": [
    "## Extracción de tweets y los likes asociados "
   ]
  },
  {
   "cell_type": "code",
   "execution_count": null,
   "metadata": {},
   "outputs": [],
   "source": [
    "def twitter_API(id):\n",
    "    url = \"https://api.twitter.com/labs/2/tweets/\" + id + \"?tweet.fields=public_metrics\"\n",
    "    r = requests.get(url,headers={'Authorization':'Bearer ' + bearer})\n",
    "    return r.json()"
   ]
  },
  {
   "cell_type": "code",
   "execution_count": null,
   "metadata": {},
   "outputs": [],
   "source": [
    "#Extrae Tweets y devuelve el máximo de likes para ponderar los sistemas L 'bien conocidos'\n",
    "def create_data_set(file):\n",
    "    #Read IDs\n",
    "    with open('tweets.txt') as f_txt:\n",
    "        lines = f_txt.readlines()\n",
    "        for id in lines:\n",
    "            response = twitter_API(str(id).strip())\n",
    "            print(response)\n",
    "            dict = eval(response['data'][\"text\"][:-24].replace(\"true\",\"True\").replace(\"false\",\"False\"))\n",
    "            start = dict['start']\n",
    "            rules = dict['rules']\n",
    "\n",
    "            if 'a' in dict:\n",
    "                angle = dict['a']\n",
    "            else:\n",
    "                angle = 'unknown'\n",
    "                \n",
    "            likes = response['data'][\"public_metrics\"][\"like_count\"]\n",
    "            \n",
    "            global_likes.append(int(likes))\n",
    "            \n",
    "            system = {}\n",
    "            system['Start'] = start\n",
    "            system['Rules'] = rules\n",
    "            system['Angle'] = angle\n",
    "            system['Likes'] = likes\n",
    "            add_system(file,system)"
   ]
  },
  {
   "cell_type": "code",
   "execution_count": null,
   "metadata": {},
   "outputs": [],
   "source": []
  },
  {
   "cell_type": "markdown",
   "metadata": {},
   "source": [
    "## Adaptando Likes al rango 0-50"
   ]
  },
  {
   "cell_type": "code",
   "execution_count": 3,
   "metadata": {},
   "outputs": [
    {
     "data": {
      "text/html": [
       "<div>\n",
       "<style scoped>\n",
       "    .dataframe tbody tr th:only-of-type {\n",
       "        vertical-align: middle;\n",
       "    }\n",
       "\n",
       "    .dataframe tbody tr th {\n",
       "        vertical-align: top;\n",
       "    }\n",
       "\n",
       "    .dataframe thead th {\n",
       "        text-align: right;\n",
       "    }\n",
       "</style>\n",
       "<table border=\"1\" class=\"dataframe\">\n",
       "  <thead>\n",
       "    <tr style=\"text-align: right;\">\n",
       "      <th></th>\n",
       "      <th>Axiom</th>\n",
       "      <th>Rules</th>\n",
       "      <th>Angle</th>\n",
       "      <th>Likes</th>\n",
       "    </tr>\n",
       "  </thead>\n",
       "  <tbody>\n",
       "    <tr>\n",
       "      <th>0</th>\n",
       "      <td>XYXF</td>\n",
       "      <td>{'F': 'F++FX+', 'X': '-F+[F]FAFA', 'A': '+YFEF...</td>\n",
       "      <td>45</td>\n",
       "      <td>0.10</td>\n",
       "    </tr>\n",
       "    <tr>\n",
       "      <th>1</th>\n",
       "      <td>FSF</td>\n",
       "      <td>{'F': 'SCF+B', 'M': '+SCC', 'C': '[]FC', 'S': ...</td>\n",
       "      <td>188</td>\n",
       "      <td>0.06</td>\n",
       "    </tr>\n",
       "    <tr>\n",
       "      <th>2</th>\n",
       "      <td>NFCH</td>\n",
       "      <td>{'F': '[]YHFHFF-', 'N': 'CHC', 'H': 'ECFFNE', ...</td>\n",
       "      <td>36</td>\n",
       "      <td>0.14</td>\n",
       "    </tr>\n",
       "    <tr>\n",
       "      <th>3</th>\n",
       "      <td>F</td>\n",
       "      <td>{'F': '[FF-FF--]F', 'L': '[+]'}</td>\n",
       "      <td>60</td>\n",
       "      <td>0.18</td>\n",
       "    </tr>\n",
       "    <tr>\n",
       "      <th>4</th>\n",
       "      <td>FF</td>\n",
       "      <td>{'F': '-WW', 'W': 'FWW'}</td>\n",
       "      <td>238</td>\n",
       "      <td>1.00</td>\n",
       "    </tr>\n",
       "    <tr>\n",
       "      <th>5</th>\n",
       "      <td>A</td>\n",
       "      <td>{'F': '[[]][A]+-FA', 'V': '-AAFF+V', 'A': 'F[F...</td>\n",
       "      <td>263</td>\n",
       "      <td>0.00</td>\n",
       "    </tr>\n",
       "    <tr>\n",
       "      <th>6</th>\n",
       "      <td>LJFJ</td>\n",
       "      <td>{'F': '-JF', 'J': 'FL-+F'}</td>\n",
       "      <td>36</td>\n",
       "      <td>0.02</td>\n",
       "    </tr>\n",
       "    <tr>\n",
       "      <th>7</th>\n",
       "      <td>F</td>\n",
       "      <td>{'F': 'L-F+', 'L': '-FU', 'U': '-FF'}</td>\n",
       "      <td>36</td>\n",
       "      <td>0.00</td>\n",
       "    </tr>\n",
       "    <tr>\n",
       "      <th>8</th>\n",
       "      <td>IX</td>\n",
       "      <td>{'F': 'F', 'J': 'LF+X', 'G': 'G[FLFJ]', 'I': '...</td>\n",
       "      <td>36</td>\n",
       "      <td>0.04</td>\n",
       "    </tr>\n",
       "    <tr>\n",
       "      <th>9</th>\n",
       "      <td>SSDS</td>\n",
       "      <td>{'F': 'SFF', 'S': 'SFDF+', 'U': '+FF'}</td>\n",
       "      <td>36</td>\n",
       "      <td>0.02</td>\n",
       "    </tr>\n",
       "  </tbody>\n",
       "</table>\n",
       "</div>"
      ],
      "text/plain": [
       "  Axiom                                              Rules Angle  Likes\n",
       "0  XYXF  {'F': 'F++FX+', 'X': '-F+[F]FAFA', 'A': '+YFEF...    45   0.10\n",
       "1   FSF  {'F': 'SCF+B', 'M': '+SCC', 'C': '[]FC', 'S': ...   188   0.06\n",
       "2  NFCH  {'F': '[]YHFHFF-', 'N': 'CHC', 'H': 'ECFFNE', ...    36   0.14\n",
       "3     F                    {'F': '[FF-FF--]F', 'L': '[+]'}    60   0.18\n",
       "4    FF                           {'F': '-WW', 'W': 'FWW'}   238   1.00\n",
       "5     A  {'F': '[[]][A]+-FA', 'V': '-AAFF+V', 'A': 'F[F...   263   0.00\n",
       "6  LJFJ                         {'F': '-JF', 'J': 'FL-+F'}    36   0.02\n",
       "7     F              {'F': 'L-F+', 'L': '-FU', 'U': '-FF'}    36   0.00\n",
       "8    IX  {'F': 'F', 'J': 'LF+X', 'G': 'G[FLFJ]', 'I': '...    36   0.04\n",
       "9  SSDS             {'F': 'SFF', 'S': 'SFDF+', 'U': '+FF'}    36   0.02"
      ]
     },
     "execution_count": 3,
     "metadata": {},
     "output_type": "execute_result"
    }
   ],
   "source": [
    "header = [\"Axiom\",\"Rules\",\"Angle\",\"Likes\"]\n",
    "tweets_df = pd.read_csv(tweets_file,header=None,names=header,na_filter = False)\n",
    "tweets_df.head(10)"
   ]
  },
  {
   "cell_type": "code",
   "execution_count": null,
   "metadata": {},
   "outputs": [],
   "source": [
    "\n",
    "likes = tweets_df['Likes'].tolist()\n",
    "m = tweets_df.mean()[\"Likes\"]\n",
    "sd = tweets_df.std()[\"Likes\"]\n",
    "\n",
    "\n",
    "\n",
    "band_1 = m+sd\n",
    "band_2 = band_1 + sd\n",
    "band_3 = band_2 + sd\n",
    "print(\"Media: \" + str(m))\n",
    "print(\"Desviación Estándar: \" + str(sd))\n",
    "print(\"Primera banda (34%): \" + str(band_1))\n",
    "print(\"Segunda banda (14%): \" + str(band_2))\n",
    "print(\"Tercera banda (2%): \" + str(band_3))\n",
    "\n",
    "plt.figure(0)\n",
    "plt.hist(likes,edgecolor='k',density=True,bins=20,stacked=False)\n",
    "plt.axvline(m,color='k')\n",
    "plt.axvline(band_1,color='k', linestyle='dashed')\n",
    "plt.axvline(band_2,color='k', linestyle='dashed')\n",
    "plt.axvline(band_3,color='k', linestyle='dashed')\n",
    "\n",
    "plt.show()\n",
    "plt.close()\n"
   ]
  },
  {
   "cell_type": "code",
   "execution_count": null,
   "metadata": {},
   "outputs": [],
   "source": [
    "likes_updated = []\n",
    "for i in tweets_df.index.values:\n",
    "    like = tweets_df.iloc[i][\"Likes\"]\n",
    "    if like >= band_3:\n",
    "        like = 50\n",
    "    likes_updated.append(like/50)\n",
    "    \n",
    "tweets_df[\"Likes\"] = likes_updated\n",
    "tweets_df.head(10)\n",
    "\n",
    "tweets_df.to_csv(file,index=False,header=False)"
   ]
  },
  {
   "cell_type": "markdown",
   "metadata": {},
   "source": [
    "## Extracción de Sistemas-L con reglas conocidas"
   ]
  },
  {
   "cell_type": "code",
   "execution_count": 29,
   "metadata": {},
   "outputs": [],
   "source": [
    "#Entrada: F > FXF | Salida: {'F':'FXF'}\n",
    "def extract_rules(rules):\n",
    "    rules_dict = dict()\n",
    "    for rule in rules:\n",
    "        if re.match(\"\\w\\s>\",rule):\n",
    "            fields = rule.split(\">\")\n",
    "            rules_dict[fields[0].strip()] = fields[1].strip().replace(\"<\",\"\").replace(\">\",\"\").replace(\"?\",\"\").replace(\"{\",\"\").replace(\"}\",\"\").replace(\"|\",\"\")\n",
    "        else:\n",
    "            fields = rule.split(\"->\")\n",
    "            rules_dict[fields[0].strip()] = fields[1].strip().replace(\"<\",\"\").replace(\">\",\"\").replace(\"?\",\"\").replace(\"{\",\"\").replace(\"}\",\"\").replace(\"|\",\"\")\n",
    "    return rules_dict\n",
    "\n",
    "def extract_system(contents):\n",
    "    rules = []\n",
    "    start = \"\"\n",
    "    angle = \"\"\n",
    "    for content in contents:\n",
    "        content = str(content).strip()\n",
    "        if content.startswith('Axiom'):\n",
    "            start = content.split(\":\")[1].strip().replace(\"(\",\"\").replace(\")\",\"\")\n",
    "        if content.startswith('axiom'):\n",
    "            start = content.split(\"=\")[1].strip().replace(\"(\",\"\").replace(\")\",\"\")\n",
    "        if content.startswith('Rule: '):\n",
    "            rule = content.split(\":\")[1].strip()\n",
    "            rules.append(rule)\n",
    "        if re.match('\\w\\s>',content):\n",
    "            rules.append(content.strip())\n",
    "        if re.match('\\w\\s->',content):\n",
    "            rules.append(content.strip())\n",
    "        if content.startswith('Angle'):\n",
    "            angle = content.split(\":\")[1].strip().replace('°','')\n",
    "            if re.match('π/\\d',angle):\n",
    "                pi=math.pi\n",
    "                angle = angle.replace('π','pi')\n",
    "                angle = int(math.degrees(eval(angle)))\n",
    "        if content.startswith('angle'):\n",
    "            angle = content.split(\"=\")[1].strip().replace('°','')\n",
    "    return (start,rules,angle)"
   ]
  },
  {
   "cell_type": "code",
   "execution_count": 30,
   "metadata": {},
   "outputs": [],
   "source": [
    "def find_all_p(s):\n",
    "    result = []\n",
    "    p_s = s.find_all(\"p\")\n",
    "    for p in p_s:\n",
    "        if \"axiom =\" in p.text:\n",
    "            result.append(\",\".join(p.stripped_strings).split(\",\"))\n",
    "    return result"
   ]
  },
  {
   "cell_type": "code",
   "execution_count": 31,
   "metadata": {},
   "outputs": [],
   "source": [
    "def wellKnown_systems_scraping(file,url,likes):\n",
    "    \n",
    "    response = requests.get(url)\n",
    "    s = BeautifulSoup(response.text,'lxml')\n",
    "\n",
    "    table = s.find(\"table\",attrs={\"border\":\"1\"})\n",
    "    if table:\n",
    "        trs = table.find_all(\"tr\")\n",
    "        for tr in trs:\n",
    "            contents = tr.find_all(\"td\")[1].contents\n",
    "\n",
    "            start,rules,angle = extract_system(contents)\n",
    "\n",
    "            rules_dict = extract_rules(rules)\n",
    "            system = dict()\n",
    "            system['Start'] = start\n",
    "            system['Rules'] = rules_dict\n",
    "            system['Angle'] = angle\n",
    "            system['Likes'] = likes\n",
    "            \n",
    "            add_system(file,system)\n",
    "    else:\n",
    "        table = s.find_all(\"td\",attrs={\"valign\":\"top\"})\n",
    "        for t in table:\n",
    "            if t.text.strip().startswith('axiom'):\n",
    "                contents = t.contents\n",
    "                \n",
    "                start,rules,angle = extract_system(contents)\n",
    "                \n",
    "                rules_dict = extract_rules(rules)\n",
    "                system = dict()\n",
    "                system['Start'] = start\n",
    "                system['Rules'] = rules_dict\n",
    "                system['Angle'] = angle\n",
    "                system['Likes'] = likes\n",
    "                \n",
    "                add_system(file,system)\n",
    "        \n",
    "        p_systems = find_all_p(s)\n",
    "        for contents in p_systems:\n",
    "            start,rules,angle = extract_system(contents)\n",
    "            rules_dict = extract_rules(rules)\n",
    "            system = dict()\n",
    "            system['Start'] = start\n",
    "            system['Rules'] = rules_dict\n",
    "            system['Angle'] = angle\n",
    "            system['Likes'] = likes\n",
    "            \n",
    "            add_system(file,system)\n"
   ]
  },
  {
   "cell_type": "markdown",
   "metadata": {},
   "source": [
    "## Creación del data set con los tweets y los sistemas con reglas conocidas\n"
   ]
  },
  {
   "cell_type": "code",
   "execution_count": null,
   "metadata": {
    "scrolled": false
   },
   "outputs": [],
   "source": [
    "likes = create_data_set(tweets_file)\n",
    "\n",
    "urls = [\"https://fedimser.github.io/l-systems.html\",\"http://paulbourke.net/fractals/lsys/\"]\n",
    "for url in urls:\n",
    "    wellKnown_systems_scraping(wellKnown_file,url,1)\n",
    "    wellKnown_systems_scraping(file,url,1)\n",
    "    "
   ]
  },
  {
   "cell_type": "markdown",
   "metadata": {},
   "source": [
    "## Generación de sistemas L"
   ]
  },
  {
   "cell_type": "code",
   "execution_count": 3,
   "metadata": {},
   "outputs": [],
   "source": [
    "def generate_random_string(min,max,charSet):\n",
    "    length = random.randint(min,max)\n",
    "    string = ''\n",
    "    for i in range(length):\n",
    "        char = charSet[random.randint(0,len(charSet) - 1)]\n",
    "        if char == ']':\n",
    "            if len(string) == 0:\n",
    "                index = 0\n",
    "                string = string[0:index] + '[' + string[index:]\n",
    "            else:\n",
    "                index = random.randint(0,len(string) - 1)\n",
    "                string = string[0:index] + '[' + string[index:]\n",
    "        string += char\n",
    "    return string\n",
    "    \n",
    "def generate():\n",
    "    l_system = []\n",
    "    charSet = ['F']\n",
    "    alphabet = list('ABCDEGHIJKLMNOPQRSTUVWXYZ')\n",
    "    controlCharSet = ['F', '+', '-', ']']\n",
    "    angles = [36, 45, 60, 90, random.randint(0,359), random.randint(0,359)]\n",
    "    iters = [4, 5, 6]\n",
    "    extraSymbols = random.randint(1,4)\n",
    "    \n",
    "    for i in range(extraSymbols):\n",
    "        index = random.randint(0,len(alphabet) - 1)\n",
    "        charSet.append(alphabet[index])\n",
    "        alphabet.pop(index)\n",
    "    \n",
    "    start = generate_random_string(1,5,charSet)\n",
    "    \n",
    "    rules = {}\n",
    "    for char in charSet:\n",
    "        rule = generate_random_string(0,10,charSet + controlCharSet)\n",
    "        rules[char] = rule\n",
    "        \n",
    "    angle = angles[random.randint(0,len(angles) - 1)]\n",
    "    iter = iters[random.randint(0,len(iters) - 1)]\n",
    "    \n",
    "    return start,rules,angle,iter\n",
    "    \n",
    "        "
   ]
  },
  {
   "cell_type": "code",
   "execution_count": 4,
   "metadata": {},
   "outputs": [],
   "source": [
    "# Todo el código de graficar es extraído de @pvigier: https://github.com/pvigier/lsystem\n",
    "\n",
    "def to_radian(angle):\n",
    "    return angle * np.pi / 180\n",
    "\n",
    "def rotate(vector, angle):\n",
    "    theta = to_radian(angle)\n",
    "    matrix = [[np.cos(theta), -np.sin(theta)], [np.sin(theta), np.cos(theta)]]\n",
    "    return np.dot(matrix, vector)\n",
    "\n",
    "def rotate_x(vector, angle):\n",
    "    theta = to_radian(angle)\n",
    "    matrix = [[1, 0, 0], [0, np.cos(theta), -np.sin(theta)], [0, np.sin(theta), np.cos(theta)]]\n",
    "    return np.dot(matrix, vector)\n",
    "\n",
    "def rotate_y(vector, angle):\n",
    "    theta = to_radian(angle)\n",
    "    matrix = [[np.cos(theta), 0, -np.sin(theta)], [0, 1, 0], [np.sin(theta), 0, np.cos(theta)]]\n",
    "    return np.dot(matrix, vector)\n",
    "\n",
    "def rotate_z(vector, angle):\n",
    "    theta = to_radian(angle)\n",
    "    matrix = [[np.cos(theta), -np.sin(theta), 0], [np.sin(theta), np.cos(theta), 0], [0, 0, 1]]\n",
    "    return np.dot(matrix, vector)\n",
    "\n",
    "def plot2d(string, alpha, delta=1, init_direction=np.array([1., 0]), colors={}):\n",
    "    fig = plt.figure()\n",
    "    ax = fig.add_subplot(111)\n",
    "    plt.gca().set_aspect('equal', adjustable='box')\n",
    "    pos = np.zeros(2, dtype=np.float64)\n",
    "    direction = init_direction\n",
    "    color = 'c'\n",
    "    saved_states = []\n",
    "    for x in string:\n",
    "        if x in list('ABCDEFGHIJKLMNOPQRSTUVWXYZ'):\n",
    "            new_pos = pos + direction\n",
    "            ax.plot([pos[0], new_pos[0]], [pos[1], new_pos[1]], c=color)\n",
    "            pos = new_pos\n",
    "        elif x == '+':\n",
    "            direction = rotate(direction, alpha)\n",
    "        elif x == '-':\n",
    "            direction = rotate(direction, -alpha)\n",
    "        elif x == '*':\n",
    "            direction *= delta\n",
    "        elif x == '/':\n",
    "            direction /= delta\n",
    "        elif x == '|':\n",
    "            direction = rotate(direction, 180)\n",
    "        elif x == '[':\n",
    "            saved_states.append((pos, direction))\n",
    "        elif x == ']':\n",
    "            pos, direction = saved_states.pop()\n",
    "        elif x in colors:\n",
    "            color = colors[x]\n",
    "    return fig"
   ]
  },
  {
   "cell_type": "code",
   "execution_count": 5,
   "metadata": {},
   "outputs": [],
   "source": [
    "system = {}\n",
    "prev_fig = None\n",
    "\n",
    "# Extraído de @ambron60: https://github.com/ambron60/l-system-drawing/blob/master/lsystem.py\n",
    "def derivation(axiom, steps, rules):\n",
    "    derived = [axiom]  # seed\n",
    "    for _ in range(steps):\n",
    "        next_seq = derived[-1]\n",
    "        next_axiom = [rule(char,rules) for char in next_seq]\n",
    "        derived.append(''.join(next_axiom)) \n",
    "    return derived\n",
    "\n",
    "# Extraído de @ambron60\n",
    "def rule(sequence, rules):\n",
    "    if sequence in rules:\n",
    "        return rules[sequence]\n",
    "    return sequence\n",
    "\n",
    "def generator_GUI(): \n",
    "\n",
    "    def generate_drawing():\n",
    "        global prev_fig,system\n",
    "        start,rules,angle,iter = generate()\n",
    "        system['Start'] = start\n",
    "        system['Rules'] = rules\n",
    "        system['Angle'] = angle\n",
    "        print(start,rules,angle)\n",
    "        model = derivation(start,iter,rules) \n",
    "        print(model)\n",
    "        \n",
    "        if not prev_fig == None:\n",
    "            plt.clf()\n",
    "            plt.close(\"all\")\n",
    "        \n",
    "        fig = plot2d(model[-1],angle,colors={'blue':'blue'})\n",
    "        prev_fig = fig\n",
    "        \n",
    "        canvas = FigureCanvasTkAgg(fig,master=window)\n",
    "        canvas.get_tk_widget().grid(row=1, column=0, ipadx=40, ipady=20)\n",
    "\n",
    "\n",
    "    def process():\n",
    "        global system\n",
    "        text = box.get()\n",
    "        if text == \"\" or not re.search(\"^\\d{0,2}$\",text) or int(text) > 50:\n",
    "            messagebox.showerror(title=\"Incorrecto\", message=\"Introduzca un número correcto\")\n",
    "            return\n",
    "        system['Likes'] = int(text)/50\n",
    "        add_system('dataSet.csv',system)\n",
    "        generate_drawing()\n",
    "\n",
    "    \n",
    "    window = tkinter.Tk()\n",
    "    window.resizable(False, False)\n",
    "    window.title('Generador Sistemas L')\n",
    "\n",
    "    \n",
    "    frame = tkinter.LabelFrame(window, text='LSystems', bg='#f0f0f0', font=(20))\n",
    "\n",
    "    frame.grid(row=0, column=0, padx=100, pady=100)\n",
    "\n",
    "    \n",
    "    generate_drawing()\n",
    "    \n",
    "    label = tkinter.Label(frame,text='Calidad(0-50)')\n",
    "    label.grid(row=0,column=0)\n",
    "\n",
    "    box = tkinter.Entry(frame)\n",
    "    box.grid(row=0,column=1)\n",
    "\n",
    "    process_button = tkinter.Button(frame,text='Guardar',command=process)\n",
    "    process_button.grid(row=1,column=1,sticky = \"we\",pady=5)\n",
    "\n",
    "    window.mainloop()\n",
    "\n"
   ]
  },
  {
   "cell_type": "code",
   "execution_count": null,
   "metadata": {},
   "outputs": [
    {
     "name": "stdout",
     "output_type": "stream",
     "text": [
      "NFNMM {'F': '+[FNNF-]', 'M': '', 'N': 'FF'} 319\n",
      "['NFNMM', 'FF+[FNNF-]FF', '+[FNNF-]+[FNNF-]+[+[FNNF-]FFFF+[FNNF-]-]+[FNNF-]+[FNNF-]', '+[+[FNNF-]FFFF+[FNNF-]-]+[+[FNNF-]FFFF+[FNNF-]-]+[+[+[FNNF-]FFFF+[FNNF-]-]+[FNNF-]+[FNNF-]+[FNNF-]+[FNNF-]+[+[FNNF-]FFFF+[FNNF-]-]-]+[+[FNNF-]FFFF+[FNNF-]-]+[+[FNNF-]FFFF+[FNNF-]-]', '+[+[+[FNNF-]FFFF+[FNNF-]-]+[FNNF-]+[FNNF-]+[FNNF-]+[FNNF-]+[+[FNNF-]FFFF+[FNNF-]-]-]+[+[+[FNNF-]FFFF+[FNNF-]-]+[FNNF-]+[FNNF-]+[FNNF-]+[FNNF-]+[+[FNNF-]FFFF+[FNNF-]-]-]+[+[+[+[FNNF-]FFFF+[FNNF-]-]+[FNNF-]+[FNNF-]+[FNNF-]+[FNNF-]+[+[FNNF-]FFFF+[FNNF-]-]-]+[+[FNNF-]FFFF+[FNNF-]-]+[+[FNNF-]FFFF+[FNNF-]-]+[+[FNNF-]FFFF+[FNNF-]-]+[+[FNNF-]FFFF+[FNNF-]-]+[+[+[FNNF-]FFFF+[FNNF-]-]+[FNNF-]+[FNNF-]+[FNNF-]+[FNNF-]+[+[FNNF-]FFFF+[FNNF-]-]-]-]+[+[+[FNNF-]FFFF+[FNNF-]-]+[FNNF-]+[FNNF-]+[FNNF-]+[FNNF-]+[+[FNNF-]FFFF+[FNNF-]-]-]+[+[+[FNNF-]FFFF+[FNNF-]-]+[FNNF-]+[FNNF-]+[FNNF-]+[FNNF-]+[+[FNNF-]FFFF+[FNNF-]-]-]']\n"
     ]
    }
   ],
   "source": [
    "generator_GUI()"
   ]
  },
  {
   "cell_type": "markdown",
   "metadata": {},
   "source": [
    "# Construccion de Modelos"
   ]
  },
  {
   "cell_type": "markdown",
   "metadata": {},
   "source": [
    "## Funciones necesarias"
   ]
  },
  {
   "cell_type": "code",
   "execution_count": 6,
   "metadata": {},
   "outputs": [],
   "source": [
    "file = 'dataSet.csv'\n",
    "def derivation(axiom, steps, rules):\n",
    "    derived = [axiom]  # seed\n",
    "    for _ in range(steps):\n",
    "        next_seq = derived[-1]\n",
    "        next_axiom = [rule(char,rules) for char in next_seq]\n",
    "        derived.append(''.join(next_axiom)) \n",
    "    return derived\n",
    "\n",
    "# @ambron60\n",
    "def rule(sequence, rules):\n",
    "    if sequence in rules:\n",
    "        return rules[sequence]\n",
    "    return sequence"
   ]
  },
  {
   "cell_type": "markdown",
   "metadata": {},
   "source": [
    "## Preparación de datos"
   ]
  },
  {
   "cell_type": "code",
   "execution_count": 7,
   "metadata": {},
   "outputs": [],
   "source": [
    "def string2sequence(strings,seq_length):\n",
    "    \n",
    "    sequences = []\n",
    "    vocab = set()\n",
    "\n",
    "\n",
    "    for element in strings:\n",
    "        vocab.update(list(element))\n",
    "\n",
    "    \n",
    "    index = {char:i+1 for i,char in enumerate(vocab)}\n",
    "\n",
    "    for element in strings:\n",
    "        sequence = []\n",
    "        for char in element:\n",
    "            sequence.append(index[char])\n",
    "        \n",
    "        sequences.append(sequence)\n",
    "\n",
    "    padded = pad_sequences(sequences,maxlen=seq_length,padding='post')\n",
    "    \n",
    "     \n",
    "    print(\"==================\")\n",
    "    print(\"Tamaño del vocabulario: \" + str(len(vocab)))\n",
    "    print(\"Índice: \") \n",
    "    print(index)\n",
    "    print(\"Tamaño máximo de las secuencias: \" + str(seq_length))\n",
    "    \n",
    "    return padded,vocab"
   ]
  },
  {
   "cell_type": "code",
   "execution_count": 8,
   "metadata": {},
   "outputs": [
    {
     "data": {
      "text/html": [
       "<div>\n",
       "<style scoped>\n",
       "    .dataframe tbody tr th:only-of-type {\n",
       "        vertical-align: middle;\n",
       "    }\n",
       "\n",
       "    .dataframe tbody tr th {\n",
       "        vertical-align: top;\n",
       "    }\n",
       "\n",
       "    .dataframe thead th {\n",
       "        text-align: right;\n",
       "    }\n",
       "</style>\n",
       "<table border=\"1\" class=\"dataframe\">\n",
       "  <thead>\n",
       "    <tr style=\"text-align: right;\">\n",
       "      <th></th>\n",
       "      <th>Axiom</th>\n",
       "      <th>Rules</th>\n",
       "      <th>Angle</th>\n",
       "      <th>Likes</th>\n",
       "      <th>Sistema</th>\n",
       "    </tr>\n",
       "  </thead>\n",
       "  <tbody>\n",
       "    <tr>\n",
       "      <th>0</th>\n",
       "      <td>XYXF</td>\n",
       "      <td>{'F': 'F++FX+', 'X': '-F+[F]FAFA', 'A': '+YFEF...</td>\n",
       "      <td>45</td>\n",
       "      <td>0.10</td>\n",
       "      <td>XYXF{'F': 'F++FX+', 'X': '-F+[F]FAFA', 'A': '+...</td>\n",
       "    </tr>\n",
       "    <tr>\n",
       "      <th>1</th>\n",
       "      <td>FSF</td>\n",
       "      <td>{'F': 'SCF+B', 'M': '+SCC', 'C': '[]FC', 'S': ...</td>\n",
       "      <td>188</td>\n",
       "      <td>0.06</td>\n",
       "      <td>FSF{'F': 'SCF+B', 'M': '+SCC', 'C': '[]FC', 'S...</td>\n",
       "    </tr>\n",
       "    <tr>\n",
       "      <th>2</th>\n",
       "      <td>NFCH</td>\n",
       "      <td>{'F': '[]YHFHFF-', 'N': 'CHC', 'H': 'ECFFNE', ...</td>\n",
       "      <td>36</td>\n",
       "      <td>0.14</td>\n",
       "      <td>NFCH{'F': '[]YHFHFF-', 'N': 'CHC', 'H': 'ECFFN...</td>\n",
       "    </tr>\n",
       "    <tr>\n",
       "      <th>3</th>\n",
       "      <td>F</td>\n",
       "      <td>{'F': '[FF-FF--]F', 'L': '[+]'}</td>\n",
       "      <td>60</td>\n",
       "      <td>0.18</td>\n",
       "      <td>F{'F': '[FF-FF--]F', 'L': '[+]'}60</td>\n",
       "    </tr>\n",
       "    <tr>\n",
       "      <th>4</th>\n",
       "      <td>FF</td>\n",
       "      <td>{'F': '-WW', 'W': 'FWW'}</td>\n",
       "      <td>238</td>\n",
       "      <td>1.00</td>\n",
       "      <td>FF{'F': '-WW', 'W': 'FWW'}238</td>\n",
       "    </tr>\n",
       "    <tr>\n",
       "      <th>5</th>\n",
       "      <td>A</td>\n",
       "      <td>{'F': '[[]][A]+-FA', 'V': '-AAFF+V', 'A': 'F[F...</td>\n",
       "      <td>263</td>\n",
       "      <td>0.00</td>\n",
       "      <td>A{'F': '[[]][A]+-FA', 'V': '-AAFF+V', 'A': 'F[...</td>\n",
       "    </tr>\n",
       "    <tr>\n",
       "      <th>6</th>\n",
       "      <td>LJFJ</td>\n",
       "      <td>{'F': '-JF', 'J': 'FL-+F'}</td>\n",
       "      <td>36</td>\n",
       "      <td>0.02</td>\n",
       "      <td>LJFJ{'F': '-JF', 'J': 'FL-+F'}36</td>\n",
       "    </tr>\n",
       "    <tr>\n",
       "      <th>7</th>\n",
       "      <td>F</td>\n",
       "      <td>{'F': 'L-F+', 'L': '-FU', 'U': '-FF'}</td>\n",
       "      <td>36</td>\n",
       "      <td>0.00</td>\n",
       "      <td>F{'F': 'L-F+', 'L': '-FU', 'U': '-FF'}36</td>\n",
       "    </tr>\n",
       "    <tr>\n",
       "      <th>8</th>\n",
       "      <td>IX</td>\n",
       "      <td>{'F': 'F', 'J': 'LF+X', 'G': 'G[FLFJ]', 'I': '...</td>\n",
       "      <td>36</td>\n",
       "      <td>0.04</td>\n",
       "      <td>IX{'F': 'F', 'J': 'LF+X', 'G': 'G[FLFJ]', 'I':...</td>\n",
       "    </tr>\n",
       "    <tr>\n",
       "      <th>9</th>\n",
       "      <td>SSDS</td>\n",
       "      <td>{'F': 'SFF', 'S': 'SFDF+', 'U': '+FF'}</td>\n",
       "      <td>36</td>\n",
       "      <td>0.02</td>\n",
       "      <td>SSDS{'F': 'SFF', 'S': 'SFDF+', 'U': '+FF'}36</td>\n",
       "    </tr>\n",
       "  </tbody>\n",
       "</table>\n",
       "</div>"
      ],
      "text/plain": [
       "  Axiom                                              Rules Angle  Likes  \\\n",
       "0  XYXF  {'F': 'F++FX+', 'X': '-F+[F]FAFA', 'A': '+YFEF...    45   0.10   \n",
       "1   FSF  {'F': 'SCF+B', 'M': '+SCC', 'C': '[]FC', 'S': ...   188   0.06   \n",
       "2  NFCH  {'F': '[]YHFHFF-', 'N': 'CHC', 'H': 'ECFFNE', ...    36   0.14   \n",
       "3     F                    {'F': '[FF-FF--]F', 'L': '[+]'}    60   0.18   \n",
       "4    FF                           {'F': '-WW', 'W': 'FWW'}   238   1.00   \n",
       "5     A  {'F': '[[]][A]+-FA', 'V': '-AAFF+V', 'A': 'F[F...   263   0.00   \n",
       "6  LJFJ                         {'F': '-JF', 'J': 'FL-+F'}    36   0.02   \n",
       "7     F              {'F': 'L-F+', 'L': '-FU', 'U': '-FF'}    36   0.00   \n",
       "8    IX  {'F': 'F', 'J': 'LF+X', 'G': 'G[FLFJ]', 'I': '...    36   0.04   \n",
       "9  SSDS             {'F': 'SFF', 'S': 'SFDF+', 'U': '+FF'}    36   0.02   \n",
       "\n",
       "                                             Sistema  \n",
       "0  XYXF{'F': 'F++FX+', 'X': '-F+[F]FAFA', 'A': '+...  \n",
       "1  FSF{'F': 'SCF+B', 'M': '+SCC', 'C': '[]FC', 'S...  \n",
       "2  NFCH{'F': '[]YHFHFF-', 'N': 'CHC', 'H': 'ECFFN...  \n",
       "3                 F{'F': '[FF-FF--]F', 'L': '[+]'}60  \n",
       "4                      FF{'F': '-WW', 'W': 'FWW'}238  \n",
       "5  A{'F': '[[]][A]+-FA', 'V': '-AAFF+V', 'A': 'F[...  \n",
       "6                   LJFJ{'F': '-JF', 'J': 'FL-+F'}36  \n",
       "7           F{'F': 'L-F+', 'L': '-FU', 'U': '-FF'}36  \n",
       "8  IX{'F': 'F', 'J': 'LF+X', 'G': 'G[FLFJ]', 'I':...  \n",
       "9       SSDS{'F': 'SFF', 'S': 'SFDF+', 'U': '+FF'}36  "
      ]
     },
     "execution_count": 8,
     "metadata": {},
     "output_type": "execute_result"
    }
   ],
   "source": [
    "header = [\"Axiom\",\"Rules\",\"Angle\",\"Likes\"]\n",
    "df = pd.read_csv(file,header=None,names=header,na_filter = False)\n",
    "df[\"Sistema\"] = df[\"Axiom\"] + df[\"Rules\"] + df[\"Angle\"]\n",
    "df.head(10)"
   ]
  },
  {
   "cell_type": "code",
   "execution_count": 9,
   "metadata": {},
   "outputs": [
    {
     "data": {
      "text/html": [
       "<div>\n",
       "<style scoped>\n",
       "    .dataframe tbody tr th:only-of-type {\n",
       "        vertical-align: middle;\n",
       "    }\n",
       "\n",
       "    .dataframe tbody tr th {\n",
       "        vertical-align: top;\n",
       "    }\n",
       "\n",
       "    .dataframe thead th {\n",
       "        text-align: right;\n",
       "    }\n",
       "</style>\n",
       "<table border=\"1\" class=\"dataframe\">\n",
       "  <thead>\n",
       "    <tr style=\"text-align: right;\">\n",
       "      <th></th>\n",
       "      <th>Axiom</th>\n",
       "      <th>Rules</th>\n",
       "      <th>Angle</th>\n",
       "      <th>Likes</th>\n",
       "      <th>Sistema</th>\n",
       "      <th>Desarrollado</th>\n",
       "    </tr>\n",
       "  </thead>\n",
       "  <tbody>\n",
       "    <tr>\n",
       "      <th>0</th>\n",
       "      <td>XYXF</td>\n",
       "      <td>{'F': 'F++FX+', 'X': '-F+[F]FAFA', 'A': '+YFEF...</td>\n",
       "      <td>45</td>\n",
       "      <td>0.10</td>\n",
       "      <td>XYXF{'F': 'F++FX+', 'X': '-F+[F]FAFA', 'A': '+...</td>\n",
       "      <td>-F++FX+++F++FX+-F+[F]FAFA+++F++FX+++F++FX+-F+[...</td>\n",
       "    </tr>\n",
       "    <tr>\n",
       "      <th>1</th>\n",
       "      <td>FSF</td>\n",
       "      <td>{'F': 'SCF+B', 'M': '+SCC', 'C': '[]FC', 'S': ...</td>\n",
       "      <td>188</td>\n",
       "      <td>0.06</td>\n",
       "      <td>FSF{'F': 'SCF+B', 'M': '+SCC', 'C': '[]FC', 'S...</td>\n",
       "      <td>[]+[][]+[]FCSCF+B+SB+M++FBF[]SCF+B[]FC[]+[]SCF...</td>\n",
       "    </tr>\n",
       "    <tr>\n",
       "      <th>2</th>\n",
       "      <td>NFCH</td>\n",
       "      <td>{'F': '[]YHFHFF-', 'N': 'CHC', 'H': 'ECFFNE', ...</td>\n",
       "      <td>36</td>\n",
       "      <td>0.14</td>\n",
       "      <td>NFCH{'F': '[]YHFHFF-', 'N': 'CHC', 'H': 'ECFFN...</td>\n",
       "      <td>CEC[]N[E]ECFFNE[]YHFHFF-ECFFNE[]YHFHFF-[]YHFHF...</td>\n",
       "    </tr>\n",
       "    <tr>\n",
       "      <th>3</th>\n",
       "      <td>F</td>\n",
       "      <td>{'F': '[FF-FF--]F', 'L': '[+]'}</td>\n",
       "      <td>60</td>\n",
       "      <td>0.18</td>\n",
       "      <td>F{'F': '[FF-FF--]F', 'L': '[+]'}60</td>\n",
       "      <td>[[[[FF-FF--]F[FF-FF--]F-[FF-FF--]F[FF-FF--]F--...</td>\n",
       "    </tr>\n",
       "    <tr>\n",
       "      <th>4</th>\n",
       "      <td>FF</td>\n",
       "      <td>{'F': '-WW', 'W': 'FWW'}</td>\n",
       "      <td>238</td>\n",
       "      <td>1.00</td>\n",
       "      <td>FF{'F': '-WW', 'W': 'FWW'}238</td>\n",
       "      <td>--FWWFWW-WWFWWFWW-WWFWWFWW-FWWFWW-WWFWWFWW-WWF...</td>\n",
       "    </tr>\n",
       "    <tr>\n",
       "      <th>5</th>\n",
       "      <td>A</td>\n",
       "      <td>{'F': '[[]][A]+-FA', 'V': '-AAFF+V', 'A': 'F[F...</td>\n",
       "      <td>263</td>\n",
       "      <td>0.00</td>\n",
       "      <td>A{'F': '[[]][A]+-FA', 'V': '-AAFF+V', 'A': 'F[...</td>\n",
       "      <td>[[]][[[]][A]+-FA[[[]][A]+-FA]+[[]][A]+-FA[[]][...</td>\n",
       "    </tr>\n",
       "    <tr>\n",
       "      <th>6</th>\n",
       "      <td>LJFJ</td>\n",
       "      <td>{'F': '-JF', 'J': 'FL-+F'}</td>\n",
       "      <td>36</td>\n",
       "      <td>0.02</td>\n",
       "      <td>LJFJ{'F': '-JF', 'J': 'FL-+F'}36</td>\n",
       "      <td>L--JFL-+-JF-FL-+F-JFL-+--JFL-+-JF-FL-+F-JF--FL...</td>\n",
       "    </tr>\n",
       "    <tr>\n",
       "      <th>7</th>\n",
       "      <td>F</td>\n",
       "      <td>{'F': 'L-F+', 'L': '-FU', 'U': '-FF'}</td>\n",
       "      <td>36</td>\n",
       "      <td>0.00</td>\n",
       "      <td>F{'F': 'L-F+', 'L': '-FU', 'U': '-FF'}36</td>\n",
       "      <td>--FU-L-F++-L-F+L-F+--L-F+-FF--FU-L-F++++</td>\n",
       "    </tr>\n",
       "    <tr>\n",
       "      <th>8</th>\n",
       "      <td>IX</td>\n",
       "      <td>{'F': 'F', 'J': 'LF+X', 'G': 'G[FLFJ]', 'I': '...</td>\n",
       "      <td>36</td>\n",
       "      <td>0.04</td>\n",
       "      <td>IX{'F': 'F', 'J': 'LF+X', 'G': 'G[FLFJ]', 'I':...</td>\n",
       "      <td>[G[FLFJ][FFIIFFLF+X][FF[G][G]FFFIIFF+[FJ]F]][F...</td>\n",
       "    </tr>\n",
       "    <tr>\n",
       "      <th>9</th>\n",
       "      <td>SSDS</td>\n",
       "      <td>{'F': 'SFF', 'S': 'SFDF+', 'U': '+FF'}</td>\n",
       "      <td>36</td>\n",
       "      <td>0.02</td>\n",
       "      <td>SSDS{'F': 'SFF', 'S': 'SFDF+', 'U': '+FF'}36</td>\n",
       "      <td>SFDF+SFFDSFF+SFDF+SFFSFFDSFDF+SFFSFF+SFDF+SFFD...</td>\n",
       "    </tr>\n",
       "  </tbody>\n",
       "</table>\n",
       "</div>"
      ],
      "text/plain": [
       "  Axiom                                              Rules Angle  Likes  \\\n",
       "0  XYXF  {'F': 'F++FX+', 'X': '-F+[F]FAFA', 'A': '+YFEF...    45   0.10   \n",
       "1   FSF  {'F': 'SCF+B', 'M': '+SCC', 'C': '[]FC', 'S': ...   188   0.06   \n",
       "2  NFCH  {'F': '[]YHFHFF-', 'N': 'CHC', 'H': 'ECFFNE', ...    36   0.14   \n",
       "3     F                    {'F': '[FF-FF--]F', 'L': '[+]'}    60   0.18   \n",
       "4    FF                           {'F': '-WW', 'W': 'FWW'}   238   1.00   \n",
       "5     A  {'F': '[[]][A]+-FA', 'V': '-AAFF+V', 'A': 'F[F...   263   0.00   \n",
       "6  LJFJ                         {'F': '-JF', 'J': 'FL-+F'}    36   0.02   \n",
       "7     F              {'F': 'L-F+', 'L': '-FU', 'U': '-FF'}    36   0.00   \n",
       "8    IX  {'F': 'F', 'J': 'LF+X', 'G': 'G[FLFJ]', 'I': '...    36   0.04   \n",
       "9  SSDS             {'F': 'SFF', 'S': 'SFDF+', 'U': '+FF'}    36   0.02   \n",
       "\n",
       "                                             Sistema  \\\n",
       "0  XYXF{'F': 'F++FX+', 'X': '-F+[F]FAFA', 'A': '+...   \n",
       "1  FSF{'F': 'SCF+B', 'M': '+SCC', 'C': '[]FC', 'S...   \n",
       "2  NFCH{'F': '[]YHFHFF-', 'N': 'CHC', 'H': 'ECFFN...   \n",
       "3                 F{'F': '[FF-FF--]F', 'L': '[+]'}60   \n",
       "4                      FF{'F': '-WW', 'W': 'FWW'}238   \n",
       "5  A{'F': '[[]][A]+-FA', 'V': '-AAFF+V', 'A': 'F[...   \n",
       "6                   LJFJ{'F': '-JF', 'J': 'FL-+F'}36   \n",
       "7           F{'F': 'L-F+', 'L': '-FU', 'U': '-FF'}36   \n",
       "8  IX{'F': 'F', 'J': 'LF+X', 'G': 'G[FLFJ]', 'I':...   \n",
       "9       SSDS{'F': 'SFF', 'S': 'SFDF+', 'U': '+FF'}36   \n",
       "\n",
       "                                        Desarrollado  \n",
       "0  -F++FX+++F++FX+-F+[F]FAFA+++F++FX+++F++FX+-F+[...  \n",
       "1  []+[][]+[]FCSCF+B+SB+M++FBF[]SCF+B[]FC[]+[]SCF...  \n",
       "2  CEC[]N[E]ECFFNE[]YHFHFF-ECFFNE[]YHFHFF-[]YHFHF...  \n",
       "3  [[[[FF-FF--]F[FF-FF--]F-[FF-FF--]F[FF-FF--]F--...  \n",
       "4  --FWWFWW-WWFWWFWW-WWFWWFWW-FWWFWW-WWFWWFWW-WWF...  \n",
       "5  [[]][[[]][A]+-FA[[[]][A]+-FA]+[[]][A]+-FA[[]][...  \n",
       "6  L--JFL-+-JF-FL-+F-JFL-+--JFL-+-JF-FL-+F-JF--FL...  \n",
       "7           --FU-L-F++-L-F+L-F+--L-F+-FF--FU-L-F++++  \n",
       "8  [G[FLFJ][FFIIFFLF+X][FF[G][G]FFFIIFF+[FJ]F]][F...  \n",
       "9  SFDF+SFFDSFF+SFDF+SFFSFFDSFDF+SFFSFF+SFDF+SFFD...  "
      ]
     },
     "execution_count": 9,
     "metadata": {},
     "output_type": "execute_result"
    }
   ],
   "source": [
    "result = []\n",
    "for i in df.index.values:\n",
    "    result.append(derivation(df.iloc[i][\"Axiom\"],4,eval(df.iloc[i][\"Rules\"]))[-1])\n",
    "    \n",
    "df[\"Desarrollado\"] = result\n",
    "df.head(10)"
   ]
  },
  {
   "cell_type": "markdown",
   "metadata": {},
   "source": [
    "# Modelo 1: Sistema desarrollado en 4 iteraciones"
   ]
  },
  {
   "cell_type": "markdown",
   "metadata": {},
   "source": [
    "## Creación de Secuencias"
   ]
  },
  {
   "cell_type": "markdown",
   "metadata": {},
   "source": [
    "### Visualizando las longitudes de las secuencias"
   ]
  },
  {
   "cell_type": "code",
   "execution_count": 10,
   "metadata": {},
   "outputs": [
    {
     "name": "stdout",
     "output_type": "stream",
     "text": [
      "Media: 439.0\n",
      "Desviación Estándar: 31340.588314555884\n",
      "Primera banda: 31779.588314555884\n",
      "Segunda banda: 63120.17662911177\n",
      "Tercera banda: 94460.76494366766\n",
      "Longitud máxima: 5000\n"
     ]
    },
    {
     "data": {
      "image/png": "[encoded data removed]",
      "text/plain": [
       "<Figure size 720x720 with 3 Axes>"
      ]
     },
     "metadata": {
      "needs_background": "light"
     },
     "output_type": "display_data"
    }
   ],
   "source": [
    "lengths = []\n",
    "for model in df.Desarrollado.tolist():\n",
    "    lengths.append(len(model))\n",
    "m = statistics.median(lengths)\n",
    "sd = np.std(lengths)\n",
    "\n",
    "band_1 = m + sd\n",
    "band_2 = band_1 + sd\n",
    "band_3 = band_2 + sd\n",
    "\n",
    "s = [ 1 for l in lengths if  30000 <= l <=40000]\n",
    "\n",
    "\n",
    "\n",
    "print(\"Media: \" + str(m))\n",
    "print(\"Desviación Estándar: \" + str(sd))\n",
    "print(\"Primera banda: \" + str(band_1))\n",
    "print(\"Segunda banda: \" + str(band_2))\n",
    "print(\"Tercera banda: \" + str(band_3))\n",
    "\n",
    "\n",
    "fig, ax = plt.subplots(3,figsize=(10,10))\n",
    "ax[0].hist(lengths,bins=50)\n",
    "ax[0].axvline(m,color='k')\n",
    "ax[0].axvline(band_1,color='k', linestyle='dashed')\n",
    "ax[0].axvline(band_2,color='k', linestyle='dashed')\n",
    "ax[0].axvline(band_3,color='k', linestyle='dashed')\n",
    "\n",
    "split_1 = [ l for l in lengths if l <= band_1]\n",
    "ax[1].hist(split_1,bins=50)\n",
    "\n",
    "\n",
    "split_2 = [ l for l in split_1 if l <= 5000]\n",
    "ax[2].hist(split_2,bins=50)\n",
    "\n",
    "max_length = 5000\n",
    "print(\"Longitud máxima: \" + str(max_length))\n",
    "plt.tight_layout()"
   ]
  },
  {
   "cell_type": "code",
   "execution_count": 11,
   "metadata": {},
   "outputs": [
    {
     "data": {
      "text/html": [
       "<div>\n",
       "<style scoped>\n",
       "    .dataframe tbody tr th:only-of-type {\n",
       "        vertical-align: middle;\n",
       "    }\n",
       "\n",
       "    .dataframe tbody tr th {\n",
       "        vertical-align: top;\n",
       "    }\n",
       "\n",
       "    .dataframe thead th {\n",
       "        text-align: right;\n",
       "    }\n",
       "</style>\n",
       "<table border=\"1\" class=\"dataframe\">\n",
       "  <thead>\n",
       "    <tr style=\"text-align: right;\">\n",
       "      <th></th>\n",
       "      <th>Axiom</th>\n",
       "      <th>Rules</th>\n",
       "      <th>Angle</th>\n",
       "      <th>Likes</th>\n",
       "      <th>Sistema</th>\n",
       "      <th>Desarrollado</th>\n",
       "      <th>Desarrollado Truncado</th>\n",
       "    </tr>\n",
       "  </thead>\n",
       "  <tbody>\n",
       "    <tr>\n",
       "      <th>0</th>\n",
       "      <td>XYXF</td>\n",
       "      <td>{'F': 'F++FX+', 'X': '-F+[F]FAFA', 'A': '+YFEF...</td>\n",
       "      <td>45</td>\n",
       "      <td>0.10</td>\n",
       "      <td>XYXF{'F': 'F++FX+', 'X': '-F+[F]FAFA', 'A': '+...</td>\n",
       "      <td>-F++FX+++F++FX+-F+[F]FAFA+++F++FX+++F++FX+-F+[...</td>\n",
       "      <td>-F++FX+++F++FX+-F+[F]FAFA+++F++FX+++F++FX+-F+[...</td>\n",
       "    </tr>\n",
       "    <tr>\n",
       "      <th>1</th>\n",
       "      <td>FSF</td>\n",
       "      <td>{'F': 'SCF+B', 'M': '+SCC', 'C': '[]FC', 'S': ...</td>\n",
       "      <td>188</td>\n",
       "      <td>0.06</td>\n",
       "      <td>FSF{'F': 'SCF+B', 'M': '+SCC', 'C': '[]FC', 'S...</td>\n",
       "      <td>[]+[][]+[]FCSCF+B+SB+M++FBF[]SCF+B[]FC[]+[]SCF...</td>\n",
       "      <td>[]+[][]+[]FCSCF+B+SB+M++FBF[]SCF+B[]FC[]+[]SCF...</td>\n",
       "    </tr>\n",
       "    <tr>\n",
       "      <th>2</th>\n",
       "      <td>NFCH</td>\n",
       "      <td>{'F': '[]YHFHFF-', 'N': 'CHC', 'H': 'ECFFNE', ...</td>\n",
       "      <td>36</td>\n",
       "      <td>0.14</td>\n",
       "      <td>NFCH{'F': '[]YHFHFF-', 'N': 'CHC', 'H': 'ECFFN...</td>\n",
       "      <td>CEC[]N[E]ECFFNE[]YHFHFF-ECFFNE[]YHFHFF-[]YHFHF...</td>\n",
       "      <td>CEC[]N[E]ECFFNE[]YHFHFF-ECFFNE[]YHFHFF-[]YHFHF...</td>\n",
       "    </tr>\n",
       "    <tr>\n",
       "      <th>3</th>\n",
       "      <td>F</td>\n",
       "      <td>{'F': '[FF-FF--]F', 'L': '[+]'}</td>\n",
       "      <td>60</td>\n",
       "      <td>0.18</td>\n",
       "      <td>F{'F': '[FF-FF--]F', 'L': '[+]'}60</td>\n",
       "      <td>[[[[FF-FF--]F[FF-FF--]F-[FF-FF--]F[FF-FF--]F--...</td>\n",
       "      <td>[[[[FF-FF--]F[FF-FF--]F-[FF-FF--]F[FF-FF--]F--...</td>\n",
       "    </tr>\n",
       "    <tr>\n",
       "      <th>4</th>\n",
       "      <td>FF</td>\n",
       "      <td>{'F': '-WW', 'W': 'FWW'}</td>\n",
       "      <td>238</td>\n",
       "      <td>1.00</td>\n",
       "      <td>FF{'F': '-WW', 'W': 'FWW'}238</td>\n",
       "      <td>--FWWFWW-WWFWWFWW-WWFWWFWW-FWWFWW-WWFWWFWW-WWF...</td>\n",
       "      <td>--FWWFWW-WWFWWFWW-WWFWWFWW-FWWFWW-WWFWWFWW-WWF...</td>\n",
       "    </tr>\n",
       "  </tbody>\n",
       "</table>\n",
       "</div>"
      ],
      "text/plain": [
       "  Axiom                                              Rules Angle  Likes  \\\n",
       "0  XYXF  {'F': 'F++FX+', 'X': '-F+[F]FAFA', 'A': '+YFEF...    45   0.10   \n",
       "1   FSF  {'F': 'SCF+B', 'M': '+SCC', 'C': '[]FC', 'S': ...   188   0.06   \n",
       "2  NFCH  {'F': '[]YHFHFF-', 'N': 'CHC', 'H': 'ECFFNE', ...    36   0.14   \n",
       "3     F                    {'F': '[FF-FF--]F', 'L': '[+]'}    60   0.18   \n",
       "4    FF                           {'F': '-WW', 'W': 'FWW'}   238   1.00   \n",
       "\n",
       "                                             Sistema  \\\n",
       "0  XYXF{'F': 'F++FX+', 'X': '-F+[F]FAFA', 'A': '+...   \n",
       "1  FSF{'F': 'SCF+B', 'M': '+SCC', 'C': '[]FC', 'S...   \n",
       "2  NFCH{'F': '[]YHFHFF-', 'N': 'CHC', 'H': 'ECFFN...   \n",
       "3                 F{'F': '[FF-FF--]F', 'L': '[+]'}60   \n",
       "4                      FF{'F': '-WW', 'W': 'FWW'}238   \n",
       "\n",
       "                                        Desarrollado  \\\n",
       "0  -F++FX+++F++FX+-F+[F]FAFA+++F++FX+++F++FX+-F+[...   \n",
       "1  []+[][]+[]FCSCF+B+SB+M++FBF[]SCF+B[]FC[]+[]SCF...   \n",
       "2  CEC[]N[E]ECFFNE[]YHFHFF-ECFFNE[]YHFHFF-[]YHFHF...   \n",
       "3  [[[[FF-FF--]F[FF-FF--]F-[FF-FF--]F[FF-FF--]F--...   \n",
       "4  --FWWFWW-WWFWWFWW-WWFWWFWW-FWWFWW-WWFWWFWW-WWF...   \n",
       "\n",
       "                               Desarrollado Truncado  \n",
       "0  -F++FX+++F++FX+-F+[F]FAFA+++F++FX+++F++FX+-F+[...  \n",
       "1  []+[][]+[]FCSCF+B+SB+M++FBF[]SCF+B[]FC[]+[]SCF...  \n",
       "2  CEC[]N[E]ECFFNE[]YHFHFF-ECFFNE[]YHFHFF-[]YHFHF...  \n",
       "3  [[[[FF-FF--]F[FF-FF--]F-[FF-FF--]F[FF-FF--]F--...  \n",
       "4  --FWWFWW-WWFWWFWW-WWFWWFWW-FWWFWW-WWFWWFWW-WWF...  "
      ]
     },
     "execution_count": 11,
     "metadata": {},
     "output_type": "execute_result"
    }
   ],
   "source": [
    "model_limit = []\n",
    "for model in df.Desarrollado.tolist():\n",
    "    model_limit.append(model[0:max_length])\n",
    "    \n",
    "\n",
    "df[\"Desarrollado Truncado\"] = model_limit\n",
    "df.head()"
   ]
  },
  {
   "cell_type": "code",
   "execution_count": 12,
   "metadata": {},
   "outputs": [
    {
     "name": "stdout",
     "output_type": "stream",
     "text": [
      "==================\n",
      "Tamaño del vocabulario: 48\n",
      "Índice: \n",
      "{'o': 1, 'C': 2, 'L': 3, '-': 4, 'b': 5, 'F': 6, 'A': 7, 's': 8, 'J': 9, 'R': 10, 'T': 11, 'k': 12, 'j': 13, 't': 14, 'V': 15, 'n': 16, 'P': 17, '+': 18, 'E': 19, 'q': 20, 'G': 21, 'v': 22, 'm': 23, 'p': 24, 'K': 25, 'u': 26, 'y': 27, 'h': 28, ']': 29, 'f': 30, '[': 31, 'W': 32, 'O': 33, 'U': 34, 'w': 35, 'M': 36, 'Y': 37, 'B': 38, 'X': 39, 'Q': 40, 'H': 41, 'N': 42, 'a': 43, 'D': 44, 'I': 45, 'e': 46, 'Z': 47, 'S': 48}\n",
      "Tamaño máximo de las secuencias: 5000\n"
     ]
    }
   ],
   "source": [
    "padded,vocab_desarrollado = string2sequence(model_limit, max_length)\n"
   ]
  },
  {
   "cell_type": "code",
   "execution_count": 195,
   "metadata": {},
   "outputs": [
    {
     "data": {
      "text/plain": [
       "((2387, 5000), (597, 5000), (2387,), (597,))"
      ]
     },
     "execution_count": 195,
     "metadata": {},
     "output_type": "execute_result"
    }
   ],
   "source": [
    "y = np.array(df.Likes.to_list())\n",
    "X_train, X_test,Y_train,Y_test = train_test_split(padded,y,test_size=0.20, random_state=42)\n",
    "X_train.shape,X_test.shape,Y_train.shape,Y_test.shape"
   ]
  },
  {
   "cell_type": "markdown",
   "metadata": {},
   "source": [
    "## Modelo 1 - CNN "
   ]
  },
  {
   "cell_type": "code",
   "execution_count": 172,
   "metadata": {},
   "outputs": [
    {
     "name": "stdout",
     "output_type": "stream",
     "text": [
      "Model: \"model_25\"\n",
      "_________________________________________________________________\n",
      "Layer (type)                 Output Shape              Param #   \n",
      "=================================================================\n",
      "input_4 (InputLayer)         [(None, 5000)]            0         \n",
      "_________________________________________________________________\n",
      "embedding_3 (Embedding)      (None, 5000, 32)          1568      \n",
      "_________________________________________________________________\n",
      "conv1d_4 (Conv1D)            (None, 4998, 32)          3104      \n",
      "_________________________________________________________________\n",
      "max_pooling1d_4 (MaxPooling1 (None, 1249, 32)          0         \n",
      "_________________________________________________________________\n",
      "conv1d_5 (Conv1D)            (None, 1247, 32)          3104      \n",
      "_________________________________________________________________\n",
      "max_pooling1d_5 (MaxPooling1 (None, 311, 32)           0         \n",
      "_________________________________________________________________\n",
      "flatten_2 (Flatten)          (None, 9952)              0         \n",
      "_________________________________________________________________\n",
      "dense_6 (Dense)              (None, 10)                99530     \n",
      "_________________________________________________________________\n",
      "dropout_3 (Dropout)          (None, 10)                0         \n",
      "_________________________________________________________________\n",
      "dense_7 (Dense)              (None, 1)                 11        \n",
      "=================================================================\n",
      "Total params: 107,317\n",
      "Trainable params: 107,317\n",
      "Non-trainable params: 0\n",
      "_________________________________________________________________\n"
     ]
    }
   ],
   "source": [
    "vocab_size = len(vocab_desarrollado)+1\n",
    "embedding_dimension = 32\n",
    "\n",
    "input_layer = Input(shape=(max_length,))\n",
    "embedding_layer = Embedding(vocab_size, embedding_dimension, input_length=max_length)(input_layer)\n",
    "conv_layer_1 = Conv1D(filters=32, kernel_size=3, activation=tf.keras.layers.LeakyReLU())(embedding_layer)\n",
    "pool_1 = MaxPooling1D(pool_size=4)(conv_layer_1)\n",
    "conv_layer_2 = Conv1D(filters=32, kernel_size=3, activation=tf.keras.layers.LeakyReLU(),kernel_regularizer=l2(l2=0.01))(pool_1)\n",
    "pool_2 = MaxPooling1D(pool_size=4)(conv_layer_2)\n",
    "flatten = Flatten()(pool_2)\n",
    "dense_2 = Dense(10, activation=tf.keras.layers.LeakyReLU(), kernel_regularizer=l2(l2=0.01))(flatten)\n",
    "dropout = Dropout(0.5)(dense_2)\n",
    "output_layer = Dense(1, activation='sigmoid')(dropout)\n",
    "\n",
    "model_1_cnn = Model(inputs=input_layer,outputs=output_layer)\n",
    "model_1_cnn.summary()"
   ]
  },
  {
   "cell_type": "code",
   "execution_count": 173,
   "metadata": {},
   "outputs": [
    {
     "data": {
      "image/png": "[encoded data removed]",
      "text/plain": [
       "<Figure size 864x576 with 2 Axes>"
      ]
     },
     "metadata": {
      "needs_background": "light"
     },
     "output_type": "display_data"
    },
    {
     "name": "stdout",
     "output_type": "stream",
     "text": [
      "Loss\n",
      "\ttraining         \t (min:    0.059, max:    0.558, cur:    0.059)\n",
      "\tvalidation       \t (min:    0.059, max:    0.462, cur:    0.060)\n",
      "root_mean_squared_error\n",
      "\ttraining         \t (min:    0.236, max:    0.312, cur:    0.237)\n",
      "\tvalidation       \t (min:    0.236, max:    0.262, cur:    0.238)\n"
     ]
    }
   ],
   "source": [
    "model_1_cnn.compile(loss=\"mse\", optimizer=tf.keras.optimizers.Adam(learning_rate=0.0001), metrics=[tf.keras.metrics.RootMeanSquaredError()])\n",
    "model_1_cnn.fit(X_train, Y_train, validation_data=(X_test, Y_test), epochs=200, batch_size=32, verbose=1,callbacks=[PlotLossesKeras()])\n",
    "model_1_cnn.save('model_1.h5')"
   ]
  },
  {
   "cell_type": "markdown",
   "metadata": {},
   "source": [
    "## Modelo 2 - MultiChannel"
   ]
  },
  {
   "cell_type": "code",
   "execution_count": 200,
   "metadata": {},
   "outputs": [
    {
     "name": "stdout",
     "output_type": "stream",
     "text": [
      "Model: \"model_49\"\n",
      "__________________________________________________________________________________________________\n",
      "Layer (type)                    Output Shape         Param #     Connected to                     \n",
      "==================================================================================================\n",
      "input_14 (InputLayer)           [(None, 5000)]       0                                            \n",
      "__________________________________________________________________________________________________\n",
      "input_15 (InputLayer)           [(None, 5000)]       0                                            \n",
      "__________________________________________________________________________________________________\n",
      "input_16 (InputLayer)           [(None, 5000)]       0                                            \n",
      "__________________________________________________________________________________________________\n",
      "embedding_13 (Embedding)        (None, 5000, 32)     1568        input_14[0][0]                   \n",
      "__________________________________________________________________________________________________\n",
      "embedding_14 (Embedding)        (None, 5000, 32)     1568        input_15[0][0]                   \n",
      "__________________________________________________________________________________________________\n",
      "embedding_15 (Embedding)        (None, 5000, 32)     1568        input_16[0][0]                   \n",
      "__________________________________________________________________________________________________\n",
      "conv1d_24 (Conv1D)              (None, 5000, 32)     4128        embedding_13[0][0]               \n",
      "__________________________________________________________________________________________________\n",
      "conv1d_26 (Conv1D)              (None, 5000, 32)     6176        embedding_14[0][0]               \n",
      "__________________________________________________________________________________________________\n",
      "conv1d_28 (Conv1D)              (None, 5000, 32)     8224        embedding_15[0][0]               \n",
      "__________________________________________________________________________________________________\n",
      "max_pooling1d_24 (MaxPooling1D) (None, 1250, 32)     0           conv1d_24[0][0]                  \n",
      "__________________________________________________________________________________________________\n",
      "max_pooling1d_26 (MaxPooling1D) (None, 1250, 32)     0           conv1d_26[0][0]                  \n",
      "__________________________________________________________________________________________________\n",
      "max_pooling1d_28 (MaxPooling1D) (None, 1250, 32)     0           conv1d_28[0][0]                  \n",
      "__________________________________________________________________________________________________\n",
      "conv1d_25 (Conv1D)              (None, 1250, 32)     4128        max_pooling1d_24[0][0]           \n",
      "__________________________________________________________________________________________________\n",
      "conv1d_27 (Conv1D)              (None, 1250, 32)     6176        max_pooling1d_26[0][0]           \n",
      "__________________________________________________________________________________________________\n",
      "conv1d_29 (Conv1D)              (None, 1250, 32)     8224        max_pooling1d_28[0][0]           \n",
      "__________________________________________________________________________________________________\n",
      "max_pooling1d_25 (MaxPooling1D) (None, 312, 32)      0           conv1d_25[0][0]                  \n",
      "__________________________________________________________________________________________________\n",
      "max_pooling1d_27 (MaxPooling1D) (None, 312, 32)      0           conv1d_27[0][0]                  \n",
      "__________________________________________________________________________________________________\n",
      "max_pooling1d_29 (MaxPooling1D) (None, 312, 32)      0           conv1d_29[0][0]                  \n",
      "__________________________________________________________________________________________________\n",
      "flatten_12 (Flatten)            (None, 9984)         0           max_pooling1d_25[0][0]           \n",
      "__________________________________________________________________________________________________\n",
      "flatten_13 (Flatten)            (None, 9984)         0           max_pooling1d_27[0][0]           \n",
      "__________________________________________________________________________________________________\n",
      "flatten_14 (Flatten)            (None, 9984)         0           max_pooling1d_29[0][0]           \n",
      "__________________________________________________________________________________________________\n",
      "concatenate_3 (Concatenate)     (None, 29952)        0           flatten_12[0][0]                 \n",
      "                                                                 flatten_13[0][0]                 \n",
      "                                                                 flatten_14[0][0]                 \n",
      "__________________________________________________________________________________________________\n",
      "dense_14 (Dense)                (None, 32)           958496      concatenate_3[0][0]              \n",
      "__________________________________________________________________________________________________\n",
      "dropout_7 (Dropout)             (None, 32)           0           dense_14[0][0]                   \n",
      "__________________________________________________________________________________________________\n",
      "dense_15 (Dense)                (None, 1)            33          dropout_7[0][0]                  \n",
      "==================================================================================================\n",
      "Total params: 1,000,289\n",
      "Trainable params: 1,000,289\n",
      "Non-trainable params: 0\n",
      "__________________________________________________________________________________________________\n"
     ]
    }
   ],
   "source": [
    "vocab_size = len(vocab_desarrollado)+1\n",
    "embedding_dimension = 32\n",
    "# channel 1\n",
    "inputs1 = Input(shape=(max_length,))\n",
    "embedding1 = Embedding(vocab_size,embedding_dimension,input_length=max_length)(inputs1)\n",
    "conv1 = Conv1D(filters=32, kernel_size=4, padding='same', activation='relu')(embedding1)\n",
    "pool_1 = MaxPooling1D(pool_size=4)(conv1)\n",
    "conv2 = Conv1D(filters=32, kernel_size=4, padding='same', activation=tf.keras.layers.LeakyReLU(),kernel_regularizer=l2(l2=0.001))(pool_1)\n",
    "pool_2 = MaxPooling1D(pool_size=4)(conv2)\n",
    "flat1 = Flatten()(pool_2)\n",
    "\n",
    "# channel 2\n",
    "inputs2 = Input(shape=(max_length,))\n",
    "embedding2 = Embedding(vocab_size, embedding_dimension, input_length=max_length)(inputs2)\n",
    "conv3 = Conv1D(filters=32, kernel_size=6, padding='same', activation=tf.keras.layers.LeakyReLU())(embedding2)\n",
    "pool_3 = MaxPooling1D(pool_size=4)(conv3)\n",
    "conv4 = Conv1D(filters=32, kernel_size=6, padding='same', activation=tf.keras.layers.LeakyReLU(),kernel_regularizer=l2(l2=0.001))(pool_3)\n",
    "pool_4 = MaxPooling1D(pool_size=4)(conv4)\n",
    "flat2 = Flatten()(pool_4)\n",
    "\n",
    "# channel 3\n",
    "inputs3 = Input(shape=(max_length,))\n",
    "embedding3 = Embedding(vocab_size, embedding_dimension, input_length=max_length)(inputs3)\n",
    "conv5 = Conv1D(filters=32, kernel_size=8, padding='same', activation=tf.keras.layers.LeakyReLU())(embedding3)\n",
    "pool_5 = MaxPooling1D(pool_size=4)(conv5)\n",
    "conv6 = Conv1D(filters=32, kernel_size=8, padding='same', activation=tf.keras.layers.LeakyReLU(),kernel_regularizer=l2(l2=0.001))(pool_5)\n",
    "pool_6 = MaxPooling1D(pool_size=4)(conv6)\n",
    "flat3 = Flatten()(pool_6)\n",
    "\n",
    "# merge\n",
    "merged = concatenate([flat1, flat2, flat3])\n",
    "\n",
    "dense1 = Dense(32, activation=tf.keras.layers.LeakyReLU(),kernel_regularizer=l2(l2=0.001))(merged)\n",
    "drop4 = Dropout(0.5)(dense1)\n",
    "outputs = Dense(1, activation='sigmoid')(drop4)\n",
    "\n",
    "model_2_multi_channel = Model(inputs=[inputs1, inputs2, inputs3], outputs=outputs)\n",
    "model_2_multi_channel.summary()"
   ]
  },
  {
   "cell_type": "code",
   "execution_count": 201,
   "metadata": {},
   "outputs": [
    {
     "data": {
      "image/png": "[encoded data removed]",
      "text/plain": [
       "<Figure size 864x576 with 2 Axes>"
      ]
     },
     "metadata": {
      "needs_background": "light"
     },
     "output_type": "display_data"
    },
    {
     "name": "stdout",
     "output_type": "stream",
     "text": [
      "Loss\n",
      "\ttraining         \t (min:    0.076, max:    0.219, cur:    0.076)\n",
      "\tvalidation       \t (min:    0.078, max:    0.187, cur:    0.078)\n",
      "root_mean_squared_error\n",
      "\ttraining         \t (min:    0.233, max:    0.276, cur:    0.233)\n",
      "\tvalidation       \t (min:    0.236, max:    0.245, cur:    0.239)\n"
     ]
    }
   ],
   "source": [
    "model_2_multi_channel.compile(loss=\"mse\", optimizer=tf.keras.optimizers.Adam(learning_rate=0.0001), metrics=[tf.keras.metrics.RootMeanSquaredError()])\n",
    "model_2_multi_channel.fit([X_train,X_train,X_train], Y_train, validation_data=([X_test,X_test,X_test], Y_test), epochs=20, batch_size=32, verbose=1,callbacks=[PlotLossesKeras()])\n",
    "model_2_multi_channel.save('model_2.h5')"
   ]
  },
  {
   "cell_type": "markdown",
   "metadata": {},
   "source": [
    "## Modelo 3 - Autoencoder y RNN"
   ]
  },
  {
   "cell_type": "markdown",
   "metadata": {},
   "source": [
    "### Autoencoder para reducir dimensionalidad"
   ]
  },
  {
   "cell_type": "code",
   "execution_count": 80,
   "metadata": {},
   "outputs": [
    {
     "data": {
      "text/plain": [
       "(149200, 100, 49)"
      ]
     },
     "execution_count": 80,
     "metadata": {},
     "output_type": "execute_result"
    }
   ],
   "source": [
    "one_hot_encoded = []   \n",
    "x_rnn = []\n",
    "n = 100\n",
    "for sequence in padded:\n",
    "    sub_sequence = []\n",
    "    for split in range(0,len(sequence),n):\n",
    "        one_hot = to_categorical(sequence[split:split+n],num_classes=len(vocab_desarrollado)+1)\n",
    "        one_hot_encoded.append(one_hot)\n",
    "        sub_sequence.append(one_hot)\n",
    "    x_rnn.append(sub_sequence)\n",
    "    \n",
    "x_ae = np.asarray(one_hot_encoded)\n",
    "x_rnn = np.asarray(x_rnn)\n",
    "x_ae.shape"
   ]
  },
  {
   "cell_type": "code",
   "execution_count": 81,
   "metadata": {},
   "outputs": [
    {
     "data": {
      "text/plain": [
       "((104440, 100, 49), (44760, 100, 49))"
      ]
     },
     "execution_count": 81,
     "metadata": {},
     "output_type": "execute_result"
    }
   ],
   "source": [
    "X_train, X_test = train_test_split(x_ae,test_size=0.30, random_state=42)\n",
    "\n",
    "X_train.shape,X_test.shape\n"
   ]
  },
  {
   "cell_type": "code",
   "execution_count": 237,
   "metadata": {},
   "outputs": [
    {
     "name": "stdout",
     "output_type": "stream",
     "text": [
      "Model: \"Autoencoder\"\n",
      "_________________________________________________________________\n",
      "Layer (type)                 Output Shape              Param #   \n",
      "=================================================================\n",
      "encoder_input (InputLayer)   [(None, 100, 49)]         0         \n",
      "_________________________________________________________________\n",
      "encoder_conv_0 (Conv1D)      (None, 100, 32)           4736      \n",
      "_________________________________________________________________\n",
      "encoder_sampling_0 (MaxPooli (None, 50, 32)            0         \n",
      "_________________________________________________________________\n",
      "encoder_conv_1 (Conv1D)      (None, 50, 32)            3104      \n",
      "_________________________________________________________________\n",
      "encoder_sampling_1 (MaxPooli (None, 25, 32)            0         \n",
      "_________________________________________________________________\n",
      "encoder_conv_2 (Conv1D)      (None, 25, 32)            3104      \n",
      "_________________________________________________________________\n",
      "encoder_sampling_2 (MaxPooli (None, 5, 32)             0         \n",
      "_________________________________________________________________\n",
      "flatten_11 (Flatten)         (None, 160)               0         \n",
      "_________________________________________________________________\n",
      "latent_space (Dense)         (None, 50)                8050      \n",
      "_________________________________________________________________\n",
      "decoder_input (Dense)        (None, 160)               8160      \n",
      "_________________________________________________________________\n",
      "decoder_reshape (Reshape)    (None, 5, 32)             0         \n",
      "_________________________________________________________________\n",
      "decoder_conv_1 (Conv1D)      (None, 5, 32)             3104      \n",
      "_________________________________________________________________\n",
      "decoder_upSampling_1 (UpSamp (None, 25, 32)            0         \n",
      "_________________________________________________________________\n",
      "decoder_conv_2 (Conv1D)      (None, 25, 32)            3104      \n",
      "_________________________________________________________________\n",
      "decoder_upSampling_2 (UpSamp (None, 50, 32)            0         \n",
      "_________________________________________________________________\n",
      "decoder_conv_3 (Conv1D)      (None, 50, 32)            3104      \n",
      "_________________________________________________________________\n",
      "decoder_upSampling_3 (UpSamp (None, 100, 32)           0         \n",
      "_________________________________________________________________\n",
      "decoder_output (Conv1D)      (None, 100, 49)           4753      \n",
      "=================================================================\n",
      "Total params: 41,219\n",
      "Trainable params: 41,219\n",
      "Non-trainable params: 0\n",
      "_________________________________________________________________\n"
     ]
    }
   ],
   "source": [
    "encoder_input = Input(shape=(n, len(vocab_desarrollado)+1),name=\"encoder_input\") \n",
    " \n",
    "\n",
    "x = Conv1D(32,3,padding='same',activation=tf.keras.layers.LeakyReLU(),name=\"encoder_conv_0\")(encoder_input)\n",
    "x = MaxPooling1D(name=\"encoder_sampling_0\")(x)\n",
    "x = Conv1D(32,3,padding='same',activation=tf.keras.layers.LeakyReLU(),name=\"encoder_conv_1\")(x)\n",
    "x = MaxPooling1D(name=\"encoder_sampling_1\")(x)\n",
    "x = Conv1D(32,3,padding='same',activation=tf.keras.layers.LeakyReLU(),name=\"encoder_conv_2\",kernel_regularizer=l1_l2(l1=1e-5, l2=1e-4),bias_regularizer=l1_l2(l1=1e-5, l2=1e-4))(x)\n",
    "x = MaxPooling1D(name=\"encoder_sampling_2\",pool_size=5)(x)\n",
    "\n",
    "shape_before_flattening = x.get_shape()[1:]\n",
    "\n",
    "x = Flatten()(x)\n",
    "\n",
    "\n",
    "latent_space = Dense(50,name=\"latent_space\")(x)\n",
    "\n",
    "x = Dense(np.prod(shape_before_flattening),name=\"decoder_input\")(latent_space)\n",
    "x = Reshape(shape_before_flattening,name=\"decoder_reshape\")(x)\n",
    "\n",
    "\n",
    "x = Conv1D(32,3,padding='same',activation=tf.keras.layers.LeakyReLU(),name=\"decoder_conv_1\")(x)\n",
    "x = UpSampling1D(name=\"decoder_upSampling_1\",size=5)(x)\n",
    "x = Conv1D(32,3,padding='same',activation=tf.keras.layers.LeakyReLU(),name=\"decoder_conv_2\")(x)\n",
    "x = UpSampling1D(name=\"decoder_upSampling_2\")(x)\n",
    "x = Conv1D(32,3,padding='same',activation=tf.keras.layers.LeakyReLU(),name=\"decoder_conv_3\")(x)\n",
    "x = UpSampling1D(name=\"decoder_upSampling_3\")(x)\n",
    "\n",
    "decoder_output = Conv1D(vocab+1,3,padding='same',activation=tf.keras.layers.LeakyReLU(),name=\"decoder_output\")(x)\n",
    "\n",
    "\n",
    "autoencoder = Model(encoder_input,decoder_output,name=\"Autoencoder\")\n",
    "autoencoder.summary()"
   ]
  },
  {
   "cell_type": "code",
   "execution_count": 238,
   "metadata": {},
   "outputs": [
    {
     "data": {
      "image/png": "[encoded data removed]",
      "text/plain": [
       "<Figure size 864x576 with 2 Axes>"
      ]
     },
     "metadata": {
      "needs_background": "light"
     },
     "output_type": "display_data"
    },
    {
     "name": "stdout",
     "output_type": "stream",
     "text": [
      "Loss\n",
      "\ttraining         \t (min:    0.003, max:    0.004, cur:    0.003)\n",
      "\tvalidation       \t (min:    0.003, max:    0.003, cur:    0.003)\n",
      "root_mean_squared_error\n",
      "\ttraining         \t (min:    0.052, max:    0.059, cur:    0.052)\n",
      "\tvalidation       \t (min:    0.052, max:    0.056, cur:    0.052)\n"
     ]
    }
   ],
   "source": [
    "autoencoder.compile(optimizer=tf.keras.optimizers.Adam(learning_rate=0.001),loss=\"mean_squared_error\",metrics=[tf.keras.metrics.RootMeanSquaredError()])\n",
    "history_ae = autoencoder.fit(x=X_train,y=X_train,validation_data=(X_test,X_test),batch_size=128,shuffle=True,epochs=400,callbacks=[PlotLossesKeras()])\n",
    "\n",
    "autoencoder.save('autoencoder_v2.h5')"
   ]
  },
  {
   "cell_type": "code",
   "execution_count": 239,
   "metadata": {},
   "outputs": [
    {
     "name": "stdout",
     "output_type": "stream",
     "text": [
      "Model: \"model_65\"\n",
      "_________________________________________________________________\n",
      "Layer (type)                 Output Shape              Param #   \n",
      "=================================================================\n",
      "encoder_input (InputLayer)   [(None, 100, 49)]         0         \n",
      "_________________________________________________________________\n",
      "encoder_conv_0 (Conv1D)      (None, 100, 32)           4736      \n",
      "_________________________________________________________________\n",
      "encoder_sampling_0 (MaxPooli (None, 50, 32)            0         \n",
      "_________________________________________________________________\n",
      "encoder_conv_1 (Conv1D)      (None, 50, 32)            3104      \n",
      "_________________________________________________________________\n",
      "encoder_sampling_1 (MaxPooli (None, 25, 32)            0         \n",
      "_________________________________________________________________\n",
      "encoder_conv_2 (Conv1D)      (None, 25, 32)            3104      \n",
      "_________________________________________________________________\n",
      "encoder_sampling_2 (MaxPooli (None, 5, 32)             0         \n",
      "_________________________________________________________________\n",
      "flatten_11 (Flatten)         (None, 160)               0         \n",
      "_________________________________________________________________\n",
      "latent_space (Dense)         (None, 50)                8050      \n",
      "=================================================================\n",
      "Total params: 18,994\n",
      "Trainable params: 18,994\n",
      "Non-trainable params: 0\n",
      "_________________________________________________________________\n"
     ]
    }
   ],
   "source": [
    "autoencoder = load_model('autoencoder.h5')\n",
    "encoder = Model(autoencoder.input,autoencoder.get_layer(\"latent_space\").output)\n",
    "encoder.summary()\n"
   ]
  },
  {
   "cell_type": "markdown",
   "metadata": {},
   "source": [
    "## Guardar los datos generados por el autoencoder  en un txt "
   ]
  },
  {
   "cell_type": "code",
   "execution_count": 240,
   "metadata": {},
   "outputs": [],
   "source": [
    "x = []\n",
    "y = np.array(df.Likes.to_list())\n",
    "for sample in x_rnn:\n",
    "    coded = encoder.predict(sample)\n",
    "    x.append(coded)\n",
    "x = np.asarray(x)"
   ]
  },
  {
   "cell_type": "code",
   "execution_count": 241,
   "metadata": {},
   "outputs": [],
   "source": [
    "np.set_printoptions(threshold=np.inf)\n",
    "x_reshaped = x.reshape(x.shape[0], -1)\n",
    "np.savetxt(\"autoencoder_outputs.txt\", x_reshaped)"
   ]
  },
  {
   "cell_type": "markdown",
   "metadata": {},
   "source": [
    "## Cargar los datos generados por el autoencoder desde un txt"
   ]
  },
  {
   "cell_type": "code",
   "execution_count": 54,
   "metadata": {},
   "outputs": [],
   "source": [
    "loaded_arr = np.loadtxt(\"autoencoder_outputs.txt\")\n",
    "x_read = loaded_arr.reshape(loaded_arr.shape[0], loaded_arr.shape[1] // 50, 50)"
   ]
  },
  {
   "cell_type": "code",
   "execution_count": 55,
   "metadata": {},
   "outputs": [
    {
     "data": {
      "text/plain": [
       "(2984, 50, 50)"
      ]
     },
     "execution_count": 55,
     "metadata": {},
     "output_type": "execute_result"
    }
   ],
   "source": [
    "x_read.shape"
   ]
  },
  {
   "cell_type": "code",
   "execution_count": 56,
   "metadata": {},
   "outputs": [
    {
     "data": {
      "text/plain": [
       "((2387, 50, 50), (597, 50, 50), (2387,), (597,))"
      ]
     },
     "execution_count": 56,
     "metadata": {},
     "output_type": "execute_result"
    }
   ],
   "source": [
    "x = np.asarray(x_read)\n",
    "y = np.array(df.Likes.to_list())\n",
    "X_train, X_test,Y_train,Y_test = train_test_split(x,y,test_size=0.20, random_state=42)\n",
    "X_train.shape,X_test.shape,Y_train.shape,Y_test.shape\n"
   ]
  },
  {
   "cell_type": "markdown",
   "metadata": {},
   "source": [
    "## RNN"
   ]
  },
  {
   "cell_type": "code",
   "execution_count": 57,
   "metadata": {},
   "outputs": [
    {
     "name": "stdout",
     "output_type": "stream",
     "text": [
      "Model: \"model_13\"\n",
      "_________________________________________________________________\n",
      "Layer (type)                 Output Shape              Param #   \n",
      "=================================================================\n",
      "input_39 (InputLayer)        [(None, 50, 50)]          0         \n",
      "_________________________________________________________________\n",
      "lstm_1 (LSTM)                (None, 50)                20200     \n",
      "_________________________________________________________________\n",
      "dense_29 (Dense)             (None, 50)                2550      \n",
      "_________________________________________________________________\n",
      "dropout_38 (Dropout)         (None, 50)                0         \n",
      "_________________________________________________________________\n",
      "dense_30 (Dense)             (None, 32)                1632      \n",
      "_________________________________________________________________\n",
      "dense_31 (Dense)             (None, 1)                 33        \n",
      "=================================================================\n",
      "Total params: 24,415\n",
      "Trainable params: 24,415\n",
      "Non-trainable params: 0\n",
      "_________________________________________________________________\n"
     ]
    }
   ],
   "source": [
    "input_layer = Input(shape=(50,50)) \n",
    "lstm_layer = LSTM(50)(input_layer)\n",
    "dense_layer = Dense(50,activation=tf.keras.layers.LeakyReLU())(lstm_layer)\n",
    "dropout = Dropout(0.5)(dense_layer)\n",
    "dense_layer_2 = Dense(32,activation=tf.keras.layers.LeakyReLU(),kernel_regularizer=l2(0.001), bias_regularizer=l2(0.001),activity_regularizer=l2(0.001))(dropout)\n",
    "output = Dense(1,activation='sigmoid')(dense_layer_2)\n",
    "\n",
    "model_3_rnn = Model(input_layer,output)\n",
    "model_3_rnn.summary()\n"
   ]
  },
  {
   "cell_type": "code",
   "execution_count": 58,
   "metadata": {},
   "outputs": [
    {
     "data": {
      "image/png": "[encoded data removed]",
      "text/plain": [
       "<Figure size 864x576 with 2 Axes>"
      ]
     },
     "metadata": {
      "needs_background": "light"
     },
     "output_type": "display_data"
    },
    {
     "name": "stdout",
     "output_type": "stream",
     "text": [
      "Loss\n",
      "\ttraining         \t (min:    0.061, max:    0.166, cur:    0.061)\n",
      "\tvalidation       \t (min:    0.058, max:    0.134, cur:    0.059)\n",
      "root_mean_squared_error\n",
      "\ttraining         \t (min:    0.242, max:    0.358, cur:    0.243)\n",
      "\tvalidation       \t (min:    0.236, max:    0.313, cur:    0.240)\n"
     ]
    }
   ],
   "source": [
    "model_3_rnn.compile(loss=\"mse\", optimizer=tf.keras.optimizers.Adam(learning_rate=0.0001), metrics=[tf.keras.metrics.RootMeanSquaredError()])\n",
    "model_3_rnn.fit(X_train, Y_train, validation_data=(X_test, Y_test), epochs=100, batch_size=32, verbose=1,callbacks=[PlotLossesKeras()])\n",
    "model_3_rnn.save('model_3.h5')"
   ]
  },
  {
   "cell_type": "markdown",
   "metadata": {},
   "source": [
    "# Entrada: Definición del sistema-L"
   ]
  },
  {
   "cell_type": "code",
   "execution_count": 202,
   "metadata": {},
   "outputs": [
    {
     "name": "stdout",
     "output_type": "stream",
     "text": [
      "Media: 57.0\n",
      "Desviación Estándar: 21.894095554563123\n",
      "Primera banda (34%): 78.89409555456312\n",
      "Segunda banda (14%): 100.78819110912625\n",
      "Tercera banda (2%): 122.68228666368937\n",
      "Longitud máxima: 122\n"
     ]
    },
    {
     "data": {
      "image/png": "[encoded data removed]",
      "text/plain": [
       "<Figure size 432x288 with 1 Axes>"
      ]
     },
     "metadata": {
      "needs_background": "light"
     },
     "output_type": "display_data"
    }
   ],
   "source": [
    "lengths = []\n",
    "for system in df.Sistema.tolist():\n",
    "    lengths.append(len(system))\n",
    "m = statistics.median(lengths)\n",
    "sd = np.std(lengths)\n",
    "\n",
    "band_1 = m + sd\n",
    "band_2 = band_1 + sd\n",
    "band_3 = band_2 + sd\n",
    "\n",
    "\n",
    "print(\"Media: \" + str(m))\n",
    "print(\"Desviación Estándar: \" + str(sd))\n",
    "print(\"Primera banda (34%): \" + str(band_1))\n",
    "print(\"Segunda banda (14%): \" + str(band_2))\n",
    "print(\"Tercera banda (2%): \" + str(band_3))\n",
    "\n",
    "\n",
    "\n",
    "plt.hist(lengths,bins=50)\n",
    "plt.axvline(m,color='k')\n",
    "plt.axvline(band_1,color='k', linestyle='dashed')\n",
    "plt.axvline(band_2,color='k', linestyle='dashed')\n",
    "plt.axvline(band_3,color='k', linestyle='dashed')\n",
    "\n",
    "\n",
    "max_length = int(band_3)\n",
    "print(\"Longitud máxima: \" + str(max_length))\n",
    "plt.show()"
   ]
  },
  {
   "cell_type": "code",
   "execution_count": 203,
   "metadata": {},
   "outputs": [
    {
     "name": "stdout",
     "output_type": "stream",
     "text": [
      "==================\n",
      "Tamaño del vocabulario: 64\n",
      "Índice: \n",
      "{'H': 1, 'L': 2, 'I': 3, 'M': 4, 'h': 5, 'f': 6, 'Z': 7, 'J': 8, '5': 9, 'k': 10, 'w': 11, 'U': 12, 'T': 13, ' ': 14, '8': 15, '4': 16, 'o': 17, 'e': 18, 'b': 19, 'x': 20, 'E': 21, 'B': 22, '7': 23, 'R': 24, '6': 25, 't': 26, '{': 27, '+': 28, 'Y': 29, 'D': 30, ':': 31, 'u': 32, '}': 33, 'y': 34, 'S': 35, '[': 36, ']': 37, 'K': 38, '3': 39, 'P': 40, 'a': 41, 'C': 42, '9': 43, '1': 44, '2': 45, 'c': 46, 'G': 47, 'O': 48, ',': 49, 'Q': 50, '-': 51, 'n': 52, '.': 53, 'V': 54, 'X': 55, \"'\": 56, 'A': 57, 'q': 58, 'F': 59, '0': 60, 'd': 61, 'v': 62, 'N': 63, 'W': 64}\n",
      "Tamaño máximo de las secuencias: 122\n"
     ]
    },
    {
     "data": {
      "text/plain": [
       "((2984, 122), (2984,))"
      ]
     },
     "execution_count": 203,
     "metadata": {},
     "output_type": "execute_result"
    }
   ],
   "source": [
    "model_limit = []\n",
    "for model in df.Sistema.tolist():\n",
    "    model_limit.append(model[0:max_length])\n",
    "padded,vocab_sistema = string2sequence(model_limit, max_length)\n",
    "\n",
    "x = np.asarray(padded)\n",
    "y = np.array(df.Likes.to_list())\n",
    "x.shape,y.shape"
   ]
  },
  {
   "cell_type": "code",
   "execution_count": 204,
   "metadata": {},
   "outputs": [
    {
     "data": {
      "text/plain": [
       "((2387, 122), (597, 122), (2387,), (597,))"
      ]
     },
     "execution_count": 204,
     "metadata": {},
     "output_type": "execute_result"
    }
   ],
   "source": [
    "X_train, X_test,Y_train,Y_test = train_test_split(x,y,test_size=0.20, random_state=42)\n",
    "X_train.shape,X_test.shape,Y_train.shape,Y_test.shape\n"
   ]
  },
  {
   "cell_type": "markdown",
   "metadata": {},
   "source": [
    "## Modelo 4 - CNN"
   ]
  },
  {
   "cell_type": "code",
   "execution_count": 154,
   "metadata": {},
   "outputs": [
    {
     "name": "stdout",
     "output_type": "stream",
     "text": [
      "Model: \"model_23\"\n",
      "_________________________________________________________________\n",
      "Layer (type)                 Output Shape              Param #   \n",
      "=================================================================\n",
      "input_2 (InputLayer)         [(None, 122)]             0         \n",
      "_________________________________________________________________\n",
      "embedding_1 (Embedding)      (None, 122, 32)           2080      \n",
      "_________________________________________________________________\n",
      "conv1d_2 (Conv1D)            (None, 120, 32)           3104      \n",
      "_________________________________________________________________\n",
      "max_pooling1d_2 (MaxPooling1 (None, 60, 32)            0         \n",
      "_________________________________________________________________\n",
      "conv1d_3 (Conv1D)            (None, 58, 32)            3104      \n",
      "_________________________________________________________________\n",
      "max_pooling1d_3 (MaxPooling1 (None, 29, 32)            0         \n",
      "_________________________________________________________________\n",
      "flatten_1 (Flatten)          (None, 928)               0         \n",
      "_________________________________________________________________\n",
      "dense_2 (Dense)              (None, 32)                29728     \n",
      "_________________________________________________________________\n",
      "dropout_1 (Dropout)          (None, 32)                0         \n",
      "_________________________________________________________________\n",
      "dense_3 (Dense)              (None, 1)                 33        \n",
      "=================================================================\n",
      "Total params: 38,049\n",
      "Trainable params: 38,049\n",
      "Non-trainable params: 0\n",
      "_________________________________________________________________\n"
     ]
    }
   ],
   "source": [
    "vocab_size = len(vocab_sistema)+1\n",
    "embedding_dimension = 32\n",
    "\n",
    "input_layer = Input(shape=(max_length,))\n",
    "embedding_layer = Embedding(vocab_size, embedding_dimension, input_length=max_length)(input_layer)\n",
    "conv_layer_1 = Conv1D(filters=32, kernel_size=3, activation=tf.keras.layers.LeakyReLU())(embedding_layer)\n",
    "pool_1 = MaxPooling1D(pool_size=2)(conv_layer_1)\n",
    "conv_layer_2 = Conv1D(filters=32, kernel_size=3, activation=tf.keras.layers.LeakyReLU(),kernel_regularizer=l2(l2=0.01))(pool_1)\n",
    "pool_2 = MaxPooling1D(pool_size=2)(conv_layer_2)\n",
    "flatten = Flatten()(pool_2)\n",
    "dense_2 = Dense(32, activation=tf.keras.layers.LeakyReLU(), kernel_regularizer=l2(l2=0.01))(flatten)\n",
    "dropout = Dropout(0.5)(dense_2)\n",
    "output_layer = Dense(1)(dropout)\n",
    "\n",
    "model_4_cnn = Model(inputs=input_layer,outputs=output_layer)\n",
    "model_4_cnn.summary()"
   ]
  },
  {
   "cell_type": "code",
   "execution_count": 155,
   "metadata": {},
   "outputs": [
    {
     "data": {
      "image/png": "[encoded data removed]",
      "text/plain": [
       "<Figure size 864x576 with 2 Axes>"
      ]
     },
     "metadata": {
      "needs_background": "light"
     },
     "output_type": "display_data"
    },
    {
     "name": "stdout",
     "output_type": "stream",
     "text": [
      "Loss\n",
      "\ttraining         \t (min:    0.058, max:    0.940, cur:    0.060)\n",
      "\tvalidation       \t (min:    0.061, max:    0.845, cur:    0.061)\n",
      "root_mean_squared_error\n",
      "\ttraining         \t (min:    0.234, max:    0.309, cur:    0.237)\n",
      "\tvalidation       \t (min:    0.239, max:    0.288, cur:    0.240)\n"
     ]
    }
   ],
   "source": [
    "model_4_cnn.compile(loss=\"mse\", optimizer=tf.keras.optimizers.Adam(learning_rate=0.0001), metrics=[tf.keras.metrics.RootMeanSquaredError()])\n",
    "model_4_cnn.fit(X_train, Y_train, validation_data=(X_test, Y_test), epochs=150, batch_size=32, verbose=1,callbacks=[PlotLossesKeras()])\n",
    "model_4_cnn.save('model_4.h5')"
   ]
  },
  {
   "cell_type": "markdown",
   "metadata": {},
   "source": [
    "## Modelo 5 - RNN"
   ]
  },
  {
   "cell_type": "code",
   "execution_count": 161,
   "metadata": {},
   "outputs": [
    {
     "name": "stdout",
     "output_type": "stream",
     "text": [
      "Model: \"model_24\"\n",
      "_________________________________________________________________\n",
      "Layer (type)                 Output Shape              Param #   \n",
      "=================================================================\n",
      "input_3 (InputLayer)         [(None, 122)]             0         \n",
      "_________________________________________________________________\n",
      "embedding_2 (Embedding)      (None, 122, 32)           2080      \n",
      "_________________________________________________________________\n",
      "lstm (LSTM)                  (None, 64)                24832     \n",
      "_________________________________________________________________\n",
      "dense_4 (Dense)              (None, 32)                2080      \n",
      "_________________________________________________________________\n",
      "dropout_2 (Dropout)          (None, 32)                0         \n",
      "_________________________________________________________________\n",
      "dense_5 (Dense)              (None, 1)                 33        \n",
      "=================================================================\n",
      "Total params: 29,025\n",
      "Trainable params: 29,025\n",
      "Non-trainable params: 0\n",
      "_________________________________________________________________\n"
     ]
    }
   ],
   "source": [
    "vocab_size = len(vocab_sistema)+1\n",
    "embedding_dimension = 32\n",
    "\n",
    "input_layer = Input(shape=(max_length,)) \n",
    "embedding_layer = Embedding(vocab_size,embedding_dimension,input_length=max_length)(input_layer)\n",
    "lstm_layer = LSTM(64)(embedding_layer)\n",
    "dense1 = Dense(32,activation=tf.keras.layers.LeakyReLU(),kernel_regularizer=l2(l2=0.01))(lstm_layer)\n",
    "dense1 = Dropout(0.5)(dense1)\n",
    "output = Dense(1, activation='sigmoid')(dense1)\n",
    "\n",
    "model_5_rnn = Model(input_layer,output)\n",
    "model_5_rnn.summary()\n"
   ]
  },
  {
   "cell_type": "code",
   "execution_count": 162,
   "metadata": {},
   "outputs": [
    {
     "data": {
      "image/png": "[encoded data removed]",
      "text/plain": [
       "<Figure size 864x576 with 2 Axes>"
      ]
     },
     "metadata": {
      "needs_background": "light"
     },
     "output_type": "display_data"
    },
    {
     "name": "stdout",
     "output_type": "stream",
     "text": [
      "Loss\n",
      "\ttraining         \t (min:    0.060, max:    0.541, cur:    0.061)\n",
      "\tvalidation       \t (min:    0.062, max:    0.500, cur:    0.065)\n",
      "root_mean_squared_error\n",
      "\ttraining         \t (min:    0.242, max:    0.362, cur:    0.245)\n",
      "\tvalidation       \t (min:    0.247, max:    0.329, cur:    0.253)\n"
     ]
    }
   ],
   "source": [
    "model_5_rnn.compile(loss=\"mse\", optimizer=tf.keras.optimizers.Adam(learning_rate=0.0001), metrics=[tf.keras.metrics.RootMeanSquaredError()])\n",
    "model_5_rnn.fit(X_train, Y_train, validation_data=(X_test, Y_test), epochs=150, batch_size=32, verbose=1,callbacks=[PlotLossesKeras()])\n",
    "model_5_rnn.save('model_5.h5')"
   ]
  },
  {
   "cell_type": "markdown",
   "metadata": {},
   "source": [
    "## Modelo 6 - MultiChannel"
   ]
  },
  {
   "cell_type": "code",
   "execution_count": 205,
   "metadata": {},
   "outputs": [
    {
     "name": "stdout",
     "output_type": "stream",
     "text": [
      "Model: \"model_50\"\n",
      "__________________________________________________________________________________________________\n",
      "Layer (type)                    Output Shape         Param #     Connected to                     \n",
      "==================================================================================================\n",
      "input_17 (InputLayer)           [(None, 122)]        0                                            \n",
      "__________________________________________________________________________________________________\n",
      "input_18 (InputLayer)           [(None, 122)]        0                                            \n",
      "__________________________________________________________________________________________________\n",
      "input_19 (InputLayer)           [(None, 122)]        0                                            \n",
      "__________________________________________________________________________________________________\n",
      "embedding_16 (Embedding)        (None, 122, 32)      2080        input_17[0][0]                   \n",
      "__________________________________________________________________________________________________\n",
      "embedding_17 (Embedding)        (None, 122, 32)      2080        input_18[0][0]                   \n",
      "__________________________________________________________________________________________________\n",
      "embedding_18 (Embedding)        (None, 122, 32)      2080        input_19[0][0]                   \n",
      "__________________________________________________________________________________________________\n",
      "conv1d_30 (Conv1D)              (None, 122, 32)      4128        embedding_16[0][0]               \n",
      "__________________________________________________________________________________________________\n",
      "conv1d_32 (Conv1D)              (None, 122, 32)      6176        embedding_17[0][0]               \n",
      "__________________________________________________________________________________________________\n",
      "conv1d_34 (Conv1D)              (None, 122, 32)      8224        embedding_18[0][0]               \n",
      "__________________________________________________________________________________________________\n",
      "max_pooling1d_30 (MaxPooling1D) (None, 61, 32)       0           conv1d_30[0][0]                  \n",
      "__________________________________________________________________________________________________\n",
      "max_pooling1d_32 (MaxPooling1D) (None, 61, 32)       0           conv1d_32[0][0]                  \n",
      "__________________________________________________________________________________________________\n",
      "max_pooling1d_34 (MaxPooling1D) (None, 61, 32)       0           conv1d_34[0][0]                  \n",
      "__________________________________________________________________________________________________\n",
      "conv1d_31 (Conv1D)              (None, 61, 32)       4128        max_pooling1d_30[0][0]           \n",
      "__________________________________________________________________________________________________\n",
      "conv1d_33 (Conv1D)              (None, 61, 32)       6176        max_pooling1d_32[0][0]           \n",
      "__________________________________________________________________________________________________\n",
      "conv1d_35 (Conv1D)              (None, 61, 32)       8224        max_pooling1d_34[0][0]           \n",
      "__________________________________________________________________________________________________\n",
      "max_pooling1d_31 (MaxPooling1D) (None, 30, 32)       0           conv1d_31[0][0]                  \n",
      "__________________________________________________________________________________________________\n",
      "max_pooling1d_33 (MaxPooling1D) (None, 30, 32)       0           conv1d_33[0][0]                  \n",
      "__________________________________________________________________________________________________\n",
      "max_pooling1d_35 (MaxPooling1D) (None, 30, 32)       0           conv1d_35[0][0]                  \n",
      "__________________________________________________________________________________________________\n",
      "flatten_15 (Flatten)            (None, 960)          0           max_pooling1d_31[0][0]           \n",
      "__________________________________________________________________________________________________\n",
      "flatten_16 (Flatten)            (None, 960)          0           max_pooling1d_33[0][0]           \n",
      "__________________________________________________________________________________________________\n",
      "flatten_17 (Flatten)            (None, 960)          0           max_pooling1d_35[0][0]           \n",
      "__________________________________________________________________________________________________\n",
      "concatenate_4 (Concatenate)     (None, 2880)         0           flatten_15[0][0]                 \n",
      "                                                                 flatten_16[0][0]                 \n",
      "                                                                 flatten_17[0][0]                 \n",
      "__________________________________________________________________________________________________\n",
      "dense_16 (Dense)                (None, 32)           92192       concatenate_4[0][0]              \n",
      "__________________________________________________________________________________________________\n",
      "dropout_8 (Dropout)             (None, 32)           0           dense_16[0][0]                   \n",
      "__________________________________________________________________________________________________\n",
      "dense_17 (Dense)                (None, 1)            33          dropout_8[0][0]                  \n",
      "==================================================================================================\n",
      "Total params: 135,521\n",
      "Trainable params: 135,521\n",
      "Non-trainable params: 0\n",
      "__________________________________________________________________________________________________\n"
     ]
    }
   ],
   "source": [
    "vocab_size = len(vocab_sistema)+1\n",
    "embedding_dimension = 32\n",
    "# channel 1\n",
    "inputs1 = Input(shape=(max_length,))\n",
    "embedding1 = Embedding(vocab_size,embedding_dimension,input_length=max_length)(inputs1)\n",
    "conv1 = Conv1D(filters=32, kernel_size=4, padding='same', activation=tf.keras.layers.LeakyReLU())(embedding1)\n",
    "pool_1 = MaxPooling1D()(conv1)\n",
    "conv2 = Conv1D(filters=32, kernel_size=4, padding='same', activation=tf.keras.layers.LeakyReLU(),kernel_regularizer=l2(l2=0.01))(pool_1)\n",
    "pool_2 = MaxPooling1D(pool_size=2)(conv2)\n",
    "flat1 = Flatten()(pool_2)\n",
    "\n",
    "# channel 2\n",
    "inputs2 = Input(shape=(max_length,))\n",
    "embedding2 = Embedding(vocab_size, embedding_dimension, input_length=max_length)(inputs2)\n",
    "conv3 = Conv1D(filters=32, kernel_size=6, padding='same', activation=tf.keras.layers.LeakyReLU())(embedding2)\n",
    "pool_3 = MaxPooling1D()(conv3)\n",
    "conv4 = Conv1D(filters=32, kernel_size=6, padding='same', activation=tf.keras.layers.LeakyReLU(),kernel_regularizer=l2(l2=0.01))(pool_3)\n",
    "pool_4 = MaxPooling1D()(conv4)\n",
    "flat2 = Flatten()(pool_4)\n",
    "\n",
    "# channel 3\n",
    "inputs3 = Input(shape=(max_length,))\n",
    "embedding3 = Embedding(vocab_size, embedding_dimension, input_length=max_length)(inputs3)\n",
    "conv5 = Conv1D(filters=32, kernel_size=8, padding='same', activation=tf.keras.layers.LeakyReLU())(embedding3)\n",
    "pool_5 = MaxPooling1D()(conv5)\n",
    "conv6 = Conv1D(filters=32, kernel_size=8, padding='same', activation=tf.keras.layers.LeakyReLU(),kernel_regularizer=l2(l2=0.01))(pool_5)\n",
    "pool_6 = MaxPooling1D()(conv6)\n",
    "flat3 = Flatten()(pool_6)\n",
    "\n",
    "# merge\n",
    "merged = concatenate([flat1, flat2, flat3])\n",
    "\n",
    "dense1 = Dense(32, activation=tf.keras.layers.LeakyReLU(),kernel_regularizer=l2(l2=0.01))(merged)\n",
    "dropout = Dropout(0.5)(dense1)\n",
    "outputs = Dense(1, activation='sigmoid')(dropout)\n",
    "\n",
    "model_6_multi_channel = Model(inputs=[inputs1, inputs2, inputs3], outputs=outputs)\n",
    "model_6_multi_channel.summary()\n"
   ]
  },
  {
   "cell_type": "code",
   "execution_count": 206,
   "metadata": {},
   "outputs": [
    {
     "data": {
      "image/png": "[encoded data removed]",
      "text/plain": [
       "<Figure size 864x576 with 2 Axes>"
      ]
     },
     "metadata": {
      "needs_background": "light"
     },
     "output_type": "display_data"
    },
    {
     "name": "stdout",
     "output_type": "stream",
     "text": [
      "Loss\n",
      "\ttraining         \t (min:    0.061, max:    1.499, cur:    0.061)\n",
      "\tvalidation       \t (min:    0.062, max:    1.289, cur:    0.062)\n",
      "root_mean_squared_error\n",
      "\ttraining         \t (min:    0.240, max:    0.318, cur:    0.240)\n",
      "\tvalidation       \t (min:    0.241, max:    0.285, cur:    0.241)\n"
     ]
    }
   ],
   "source": [
    "model_6_multi_channel.compile(loss=\"mse\", optimizer=tf.keras.optimizers.Adam(learning_rate=0.0001), metrics=[tf.keras.metrics.RootMeanSquaredError()])\n",
    "model_6_multi_channel.fit([X_train,X_train,X_train], Y_train, validation_data=([X_test,X_test,X_test], Y_test), epochs=100, batch_size=32, verbose=1,callbacks=[PlotLossesKeras()])\n",
    "model_6_multi_channel.save('model_6.h5')"
   ]
  },
  {
   "cell_type": "markdown",
   "metadata": {},
   "source": [
    "## Comparación de modelos\n"
   ]
  },
  {
   "cell_type": "code",
   "execution_count": 207,
   "metadata": {},
   "outputs": [],
   "source": [
    "def get_mse_and_rmse(string_model, X, y):\n",
    "    model = load_model(string_model)\n",
    "    y_predict = model.predict(X)\n",
    "    mse = mean_squared_error(y,y_predict, squared=True)\n",
    "    rmse = math.sqrt(mse)\n",
    "    return [mse,rmse]\n",
    "\n",
    "\n",
    "models_result = dict()\n",
    "y = np.array(df.Likes.to_list())\n",
    "\n",
    "\n",
    "#Entrada para Baseline, modelo 1 y modelo 2\n",
    "\"\"\"\n",
    "max_length = 5000\n",
    "model_limit = []\n",
    "for model in df.Desarrollado.tolist():\n",
    "    model_limit.append(model[0:max_length])\n",
    "\n",
    "padded,vocab = string2sequence(model_limit, max_length)\n",
    "X = np.asarray(padded)\n",
    "X_train, X_test,Y_train,Y_test = train_test_split(padded,y,test_size=0.20, random_state=42)\n",
    "X_train.shape,X_test.shape,Y_train.shape,Y_test.shape\n",
    "\"\"\"\n",
    "\n",
    "#Conjunto de datos para modelos 1 y 2\n",
    "max_length = 5000\n",
    "index = {char:i+1 for i,char in enumerate(vocab_desarrollado)}\n",
    "sequences=[]\n",
    "for element in df['Desarrollado Truncado']:\n",
    "    sequence = []\n",
    "    for char in element:\n",
    "        sequence.append(index[char])\n",
    "\n",
    "    sequences.append(sequence)\n",
    "\n",
    "padded = pad_sequences(sequences,maxlen=max_length,padding='post')\n",
    "X = np.asarray(padded)\n",
    "X_train, X_test,Y_train,Y_test = train_test_split(X,y,test_size=0.20, random_state=42)\n",
    "X_train.shape,X_test.shape,Y_train.shape,Y_test.shape\n",
    "\n",
    "#Baseline\n",
    "dummy_regr = DummyRegressor(strategy=\"mean\")\n",
    "dummy_regr.fit(X_train, Y_train)\n",
    "\n",
    "y_predict = dummy_regr.predict(X)\n",
    "mse = mean_squared_error(y, y_predict, squared=True)\n",
    "rmse = math.sqrt(mse)\n",
    "models_result['Baseline - Mean'] = [mse,rmse]\n",
    "\n",
    "#Modelo 1 \n",
    "string_model = 'model_1.h5'\n",
    "models_result[string_model[0:7]] = get_mse_and_rmse(string_model, X, y)\n",
    "\n",
    "#Modelo 2\n",
    "string_model = 'model_2.h5'\n",
    "models_result[string_model[0:7]] = get_mse_and_rmse(string_model, [X,X,X], y)\n",
    "\n",
    "#Modelo 3\n",
    "loaded_arr = np.loadtxt(\"autoencoder_outputs.txt\")\n",
    "x_read = loaded_arr.reshape(loaded_arr.shape[0], loaded_arr.shape[1] // 50, 50)\n",
    "X = np.asarray(x_read)\n",
    "string_model = 'model_3.h5'\n",
    "models_result[string_model[0:7]] = get_mse_and_rmse(string_model,X,y)\n",
    "\n",
    "\"\"\"\n",
    "#Entrada para modelo 4, modelo 5 y modelo 6\n",
    "max_length = 122\n",
    "model_limit = []\n",
    "for model in df.Sistema.tolist():\n",
    "    model_limit.append(model[0:max_length])\n",
    "padded,vocab = string2sequence(model_limit, max_length)\n",
    "X = np.asarray(padded)\n",
    "\"\"\"\n",
    "\n",
    "#Conjunto de datos para modelos 4,5 y 6\n",
    "max_length = 122\n",
    "model_limit = []\n",
    "sequences = []\n",
    "for model in df.Sistema.tolist():\n",
    "    model_limit.append(model[0:max_length])\n",
    "index = {char:i+1 for i,char in enumerate(vocab_sistema)}\n",
    "sequences=[]\n",
    "for element in model_limit:\n",
    "    sequence = []\n",
    "    for char in element:\n",
    "        sequence.append(index[char])\n",
    "\n",
    "    sequences.append(sequence)\n",
    "\n",
    "padded = pad_sequences(sequences,maxlen=max_length,padding='post')\n",
    "X = np.asarray(padded)\n",
    "\n",
    "#Modelo 4\n",
    "string_model = 'model_4.h5'\n",
    "models_result[string_model[0:7]] = get_mse_and_rmse(string_model,X,y)\n",
    "\n",
    "#Modelo 5\n",
    "string_model = 'model_5.h5'\n",
    "models_result[string_model[0:7]] = get_mse_and_rmse(string_model,X,y)\n",
    "\n",
    "#Modelo 6\n",
    "string_model = 'model_6.h5'\n",
    "models_result[string_model[0:7]] = get_mse_and_rmse(string_model,[X,X,X],y)"
   ]
  },
  {
   "cell_type": "code",
   "execution_count": 208,
   "metadata": {},
   "outputs": [
    {
     "data": {
      "text/html": [
       "<div>\n",
       "<style scoped>\n",
       "    .dataframe tbody tr th:only-of-type {\n",
       "        vertical-align: middle;\n",
       "    }\n",
       "\n",
       "    .dataframe tbody tr th {\n",
       "        vertical-align: top;\n",
       "    }\n",
       "\n",
       "    .dataframe thead th {\n",
       "        text-align: right;\n",
       "    }\n",
       "</style>\n",
       "<table border=\"1\" class=\"dataframe\">\n",
       "  <thead>\n",
       "    <tr style=\"text-align: right;\">\n",
       "      <th></th>\n",
       "      <th>Baseline - Mean</th>\n",
       "      <th>model_1</th>\n",
       "      <th>model_2</th>\n",
       "      <th>model_3</th>\n",
       "      <th>model_4</th>\n",
       "      <th>model_5</th>\n",
       "      <th>model_6</th>\n",
       "    </tr>\n",
       "    <tr>\n",
       "      <th>Resultados</th>\n",
       "      <th></th>\n",
       "      <th></th>\n",
       "      <th></th>\n",
       "      <th></th>\n",
       "      <th></th>\n",
       "      <th></th>\n",
       "      <th></th>\n",
       "    </tr>\n",
       "  </thead>\n",
       "  <tbody>\n",
       "    <tr>\n",
       "      <th>Loss</th>\n",
       "      <td>0.082831</td>\n",
       "      <td>0.053852</td>\n",
       "      <td>0.052897</td>\n",
       "      <td>0.058139</td>\n",
       "      <td>0.054100</td>\n",
       "      <td>0.058893</td>\n",
       "      <td>0.056237</td>\n",
       "    </tr>\n",
       "    <tr>\n",
       "      <th>RMSE</th>\n",
       "      <td>0.287804</td>\n",
       "      <td>0.232061</td>\n",
       "      <td>0.229994</td>\n",
       "      <td>0.241120</td>\n",
       "      <td>0.232595</td>\n",
       "      <td>0.242679</td>\n",
       "      <td>0.237144</td>\n",
       "    </tr>\n",
       "  </tbody>\n",
       "</table>\n",
       "</div>"
      ],
      "text/plain": [
       "            Baseline - Mean   model_1   model_2   model_3   model_4   model_5  \\\n",
       "Resultados                                                                      \n",
       "Loss               0.082831  0.053852  0.052897  0.058139  0.054100  0.058893   \n",
       "RMSE               0.287804  0.232061  0.229994  0.241120  0.232595  0.242679   \n",
       "\n",
       "             model_6  \n",
       "Resultados            \n",
       "Loss        0.056237  \n",
       "RMSE        0.237144  "
      ]
     },
     "execution_count": 208,
     "metadata": {},
     "output_type": "execute_result"
    }
   ],
   "source": [
    "models_result[\"Resultados\"] = [\"Loss\",\"RMSE\"]\n",
    "results_dataframe = pd.DataFrame.from_dict(models_result).set_index('Resultados')\n",
    "results_dataframe\n"
   ]
  },
  {
   "cell_type": "markdown",
   "metadata": {},
   "source": [
    "## Partes donde los modelos fallan con más frecuencia (Histograma de errores)"
   ]
  },
  {
   "cell_type": "code",
   "execution_count": 209,
   "metadata": {},
   "outputs": [
    {
     "name": "stdout",
     "output_type": "stream",
     "text": [
      "----------------------------------------------\n",
      "Bin:0.0-0.1\n",
      "----------------------------------------------\n",
      "Modelo 1 -------------------------------------------------------------------------------\n",
      "42/42 [==============================] - 1s 23ms/step - loss: 0.0402 - root_mean_squared_error: 0.1933\n",
      "Modelo 2 -------------------------------------------------------------------------------\n",
      "42/42 [==============================] - 4s 75ms/step - loss: 0.0514 - root_mean_squared_error: 0.1740\n",
      "Modelo 3 -------------------------------------------------------------------------------\n",
      "42/42 [==============================] - 1s 10ms/step - loss: 0.0265 - root_mean_squared_error: 0.1559\n",
      "Modelo 4 -------------------------------------------------------------------------------\n",
      "42/42 [==============================] - 0s 3ms/step - loss: 0.0403 - root_mean_squared_error: 0.1917\n",
      "Modelo 5 -------------------------------------------------------------------------------\n",
      "42/42 [==============================] - 2s 26ms/step - loss: 0.0376 - root_mean_squared_error: 0.1913\n",
      "Modelo 6 -------------------------------------------------------------------------------\n",
      "42/42 [==============================] - 1s 8ms/step - loss: 0.0373 - root_mean_squared_error: 0.1834\n",
      "----------------------------------------------\n",
      "Bin:0.1-0.2\n",
      "----------------------------------------------\n",
      "Modelo 1 -------------------------------------------------------------------------------\n",
      "14/14 [==============================] - 0s 25ms/step - loss: 0.0231 - root_mean_squared_error: 0.1421\n",
      "Modelo 2 -------------------------------------------------------------------------------\n",
      "14/14 [==============================] - 1s 89ms/step - loss: 0.0374 - root_mean_squared_error: 0.1278\n",
      "Modelo 3 -------------------------------------------------------------------------------\n",
      "14/14 [==============================] - 0s 9ms/step - loss: 0.0111 - root_mean_squared_error: 0.0954\n",
      "Modelo 4 -------------------------------------------------------------------------------\n",
      "14/14 [==============================] - 0s 3ms/step - loss: 0.0180 - root_mean_squared_error: 0.1203\n",
      "Modelo 5 -------------------------------------------------------------------------------\n",
      "14/14 [==============================] - 0s 21ms/step - loss: 0.0151 - root_mean_squared_error: 0.1188\n",
      "Modelo 6 -------------------------------------------------------------------------------\n",
      "14/14 [==============================] - 0s 6ms/step - loss: 0.0167 - root_mean_squared_error: 0.1141\n",
      "----------------------------------------------\n",
      "Bin:0.2-0.3\n",
      "----------------------------------------------\n",
      "Modelo 1 -------------------------------------------------------------------------------\n",
      "10/10 [==============================] - 0s 27ms/step - loss: 0.0205 - root_mean_squared_error: 0.1327\n",
      "Modelo 2 -------------------------------------------------------------------------------\n",
      "10/10 [==============================] - 1s 90ms/step - loss: 0.0384 - root_mean_squared_error: 0.1315\n",
      "Modelo 3 -------------------------------------------------------------------------------\n",
      "10/10 [==============================] - 0s 8ms/step - loss: 0.0127 - root_mean_squared_error: 0.1033\n",
      "Modelo 4 -------------------------------------------------------------------------------\n",
      "10/10 [==============================] - 0s 3ms/step - loss: 0.0174 - root_mean_squared_error: 0.1177\n",
      "Modelo 5 -------------------------------------------------------------------------------\n",
      "10/10 [==============================] - 0s 16ms/step - loss: 0.0178 - root_mean_squared_error: 0.1296\n",
      "Modelo 6 -------------------------------------------------------------------------------\n",
      "10/10 [==============================] - 0s 5ms/step - loss: 0.0164 - root_mean_squared_error: 0.1126\n",
      "----------------------------------------------\n",
      "Bin:0.3-0.4\n",
      "----------------------------------------------\n",
      "Modelo 1 -------------------------------------------------------------------------------\n",
      "5/5 [==============================] - 0s 22ms/step - loss: 0.0194 - root_mean_squared_error: 0.1287\n",
      "Modelo 2 -------------------------------------------------------------------------------\n",
      "5/5 [==============================] - 1s 73ms/step - loss: 0.0412 - root_mean_squared_error: 0.1418\n",
      "Modelo 3 -------------------------------------------------------------------------------\n",
      "5/5 [==============================] - 1s 8ms/step - loss: 0.0261 - root_mean_squared_error: 0.1552\n",
      "Modelo 4 -------------------------------------------------------------------------------\n",
      "5/5 [==============================] - 0s 3ms/step - loss: 0.0181 - root_mean_squared_error: 0.1206\n",
      "Modelo 5 -------------------------------------------------------------------------------\n",
      "5/5 [==============================] - 1s 17ms/step - loss: 0.0228 - root_mean_squared_error: 0.1477\n",
      "Modelo 6 -------------------------------------------------------------------------------\n",
      "5/5 [==============================] - 0s 6ms/step - loss: 0.0221 - root_mean_squared_error: 0.1356\n",
      "----------------------------------------------\n",
      "Bin:0.4-0.5\n",
      "----------------------------------------------\n",
      "Modelo 1 -------------------------------------------------------------------------------\n",
      "6/6 [==============================] - 0s 20ms/step - loss: 0.0334 - root_mean_squared_error: 0.1747\n",
      "Modelo 2 -------------------------------------------------------------------------------\n",
      "6/6 [==============================] - 0s 66ms/step - loss: 0.0584 - root_mean_squared_error: 0.1933\n",
      "Modelo 3 -------------------------------------------------------------------------------\n",
      "6/6 [==============================] - 0s 7ms/step - loss: 0.0598 - root_mean_squared_error: 0.2405\n",
      "Modelo 4 -------------------------------------------------------------------------------\n",
      "6/6 [==============================] - 0s 2ms/step - loss: 0.0363 - root_mean_squared_error: 0.1811\n",
      "Modelo 5 -------------------------------------------------------------------------------\n",
      "6/6 [==============================] - 0s 17ms/step - loss: 0.0484 - root_mean_squared_error: 0.2177\n",
      "Modelo 6 -------------------------------------------------------------------------------\n",
      "6/6 [==============================] - 0s 5ms/step - loss: 0.0425 - root_mean_squared_error: 0.1969\n",
      "----------------------------------------------\n",
      "Bin:0.5-0.6\n",
      "----------------------------------------------\n",
      "Modelo 1 -------------------------------------------------------------------------------\n",
      "5/5 [==============================] - 0s 18ms/step - loss: 0.0626 - root_mean_squared_error: 0.2444\n",
      "Modelo 2 -------------------------------------------------------------------------------\n",
      "5/5 [==============================] - 0s 54ms/step - loss: 0.0911 - root_mean_squared_error: 0.2646\n",
      "Modelo 3 -------------------------------------------------------------------------------\n",
      "5/5 [==============================] - 0s 7ms/step - loss: 0.1052 - root_mean_squared_error: 0.3214\n",
      "Modelo 4 -------------------------------------------------------------------------------\n",
      "5/5 [==============================] - 0s 3ms/step - loss: 0.0688 - root_mean_squared_error: 0.2555\n",
      "Modelo 5 -------------------------------------------------------------------------------\n",
      "5/5 [==============================] - 0s 18ms/step - loss: 0.0902 - root_mean_squared_error: 0.2986\n",
      "Modelo 6 -------------------------------------------------------------------------------\n",
      "5/5 [==============================] - 0s 5ms/step - loss: 0.0842 - root_mean_squared_error: 0.2838\n",
      "----------------------------------------------\n",
      "Bin:0.6-0.7\n",
      "----------------------------------------------\n",
      "Modelo 1 -------------------------------------------------------------------------------\n",
      "4/4 [==============================] - 0s 29ms/step - loss: 0.1053 - root_mean_squared_error: 0.3200\n",
      "Modelo 2 -------------------------------------------------------------------------------\n",
      "4/4 [==============================] - 0s 84ms/step - loss: 0.1337 - root_mean_squared_error: 0.3357\n",
      "Modelo 3 -------------------------------------------------------------------------------\n",
      "4/4 [==============================] - 0s 8ms/step - loss: 0.1764 - root_mean_squared_error: 0.4177\n",
      "Modelo 4 -------------------------------------------------------------------------------\n"
     ]
    },
    {
     "name": "stdout",
     "output_type": "stream",
     "text": [
      "4/4 [==============================] - 0s 3ms/step - loss: 0.1150 - root_mean_squared_error: 0.3338\n",
      "Modelo 5 -------------------------------------------------------------------------------\n",
      "4/4 [==============================] - 0s 19ms/step - loss: 0.1442 - root_mean_squared_error: 0.3784\n",
      "Modelo 6 -------------------------------------------------------------------------------\n",
      "4/4 [==============================] - 0s 7ms/step - loss: 0.1346 - root_mean_squared_error: 0.3618\n",
      "----------------------------------------------\n",
      "Bin:0.7-0.8\n",
      "----------------------------------------------\n",
      "Modelo 1 -------------------------------------------------------------------------------\n",
      "3/3 [==============================] - 0s 21ms/step - loss: 0.1455 - root_mean_squared_error: 0.3777\n",
      "Modelo 2 -------------------------------------------------------------------------------\n",
      "3/3 [==============================] - 0s 68ms/step - loss: 0.1709 - root_mean_squared_error: 0.3871\n",
      "Modelo 3 -------------------------------------------------------------------------------\n",
      "3/3 [==============================] - 0s 8ms/step - loss: 0.2606 - root_mean_squared_error: 0.5087\n",
      "Modelo 4 -------------------------------------------------------------------------------\n",
      "3/3 [==============================] - 0s 3ms/step - loss: 0.1549 - root_mean_squared_error: 0.3890\n",
      "Modelo 5 -------------------------------------------------------------------------------\n",
      "3/3 [==============================] - 0s 17ms/step - loss: 0.1910 - root_mean_squared_error: 0.4359\n",
      "Modelo 6 -------------------------------------------------------------------------------\n",
      "3/3 [==============================] - 0s 6ms/step - loss: 0.1868 - root_mean_squared_error: 0.4279\n",
      "----------------------------------------------\n",
      "Bin:0.8-0.9\n",
      "----------------------------------------------\n",
      "Modelo 1 -------------------------------------------------------------------------------\n",
      "3/3 [==============================] - 0s 17ms/step - loss: 0.1906 - root_mean_squared_error: 0.4333\n",
      "Modelo 2 -------------------------------------------------------------------------------\n",
      "3/3 [==============================] - 0s 39ms/step - loss: 0.2116 - root_mean_squared_error: 0.4365\n",
      "Modelo 3 -------------------------------------------------------------------------------\n",
      "3/3 [==============================] - 0s 3ms/step - loss: 0.3537 - root_mean_squared_error: 0.5931\n",
      "Modelo 4 -------------------------------------------------------------------------------\n",
      "3/3 [==============================] - 0s 3ms/step - loss: 0.2290 - root_mean_squared_error: 0.4748\n",
      "Modelo 5 -------------------------------------------------------------------------------\n",
      "3/3 [==============================] - 0s 15ms/step - loss: 0.2494 - root_mean_squared_error: 0.4984\n",
      "Modelo 6 -------------------------------------------------------------------------------\n",
      "3/3 [==============================] - 0s 4ms/step - loss: 0.2636 - root_mean_squared_error: 0.5098\n",
      "----------------------------------------------\n",
      "Bin:0.9-1.0\n",
      "----------------------------------------------\n",
      "Modelo 1 -------------------------------------------------------------------------------\n",
      "2/2 [==============================] - 0s 8ms/step - loss: 0.2602 - root_mean_squared_error: 0.5073\n",
      "Modelo 2 -------------------------------------------------------------------------------\n",
      "2/2 [==============================] - 0s 20ms/step - loss: 0.2844 - root_mean_squared_error: 0.5132\n",
      "Modelo 3 -------------------------------------------------------------------------------\n",
      "2/2 [==============================] - 0s 5ms/step - loss: 0.4659 - root_mean_squared_error: 0.6813\n",
      "Modelo 4 -------------------------------------------------------------------------------\n",
      "2/2 [==============================] - 0s 3ms/step - loss: 0.3315 - root_mean_squared_error: 0.5727\n",
      "Modelo 5 -------------------------------------------------------------------------------\n",
      "2/2 [==============================] - 0s 10ms/step - loss: 0.3500 - root_mean_squared_error: 0.5908\n",
      "Modelo 6 -------------------------------------------------------------------------------\n",
      "2/2 [==============================] - 0s 4ms/step - loss: 0.3575 - root_mean_squared_error: 0.5948\n"
     ]
    }
   ],
   "source": [
    "bins = [p/10 for p in range(0, 11)]\n",
    "\n",
    "model_1 = load_model('model_1.h5') \n",
    "model_2 = load_model('model_2.h5')\n",
    "model_3 = load_model('model_3.h5')\n",
    "model_4 = load_model('model_4.h5')\n",
    "model_5 = load_model('model_5.h5')\n",
    "model_6 = load_model('model_6.h5')\n",
    "\n",
    "rows = []\n",
    "for i in range(1, len(bins)):\n",
    "    rango_bins = str(bins[i-1]) + \"-\" + str(bins[i])\n",
    "    \n",
    "    print(\"----------------------------------------------\")\n",
    "    print(\"Bin:\" + str(bins[i-1]) + \"-\" + str(bins[i]))\n",
    "    print(\"----------------------------------------------\")\n",
    "    \n",
    "    df_temp = df.loc[(df['Likes'] < bins[i]) & (df['Likes'] >= bins[i-1])]\n",
    "    y = np.array(df_temp.Likes.to_list())\n",
    "    \n",
    "    #Conjunto de datos para modelos 1 y 2\n",
    "    max_length = 5000\n",
    "    index = {char:i+1 for i,char in enumerate(vocab_desarrollado)}\n",
    "    sequences=[]\n",
    "    for element in df_temp['Desarrollado Truncado']:\n",
    "        sequence = []\n",
    "        for char in element:\n",
    "            sequence.append(index[char])\n",
    "        \n",
    "        sequences.append(sequence)\n",
    "\n",
    "    padded = pad_sequences(sequences,maxlen=max_length,padding='post')\n",
    "    X = np.asarray(padded)\n",
    "    \n",
    "    #Modelo 1 y modelo 2\n",
    "    X = np.asarray(padded)\n",
    "    print(\"Modelo 1 -------------------------------------------------------------------------------\")\n",
    "    rmse_1 = model_1.evaluate(X,y)\n",
    "    rows.append([\"Modelo 1\",rango_bins,rmse_1[1]])\n",
    "    print(\"Modelo 2 -------------------------------------------------------------------------------\")\n",
    "    rmse_2 = model_2.evaluate([X,X,X],y)\n",
    "    rows.append([\"Modelo 2\",rango_bins,rmse_2[1]])\n",
    "    \n",
    "    #Conjunto de datos para modelo 3\n",
    "    one_hot_encoded = []   \n",
    "    x_rnn = []\n",
    "    x = []\n",
    "    n = 100\n",
    "    for sequence in padded:\n",
    "        sub_sequence = []\n",
    "        for split in range(0,len(sequence),n):\n",
    "            one_hot = to_categorical(sequence[split:split+n],num_classes=len(vocab_desarrollado)+1)\n",
    "            one_hot_encoded.append(one_hot)\n",
    "            sub_sequence.append(one_hot)\n",
    "        x_rnn.append(sub_sequence)\n",
    "\n",
    "    x_rnn = np.asarray(x_rnn)\n",
    "    \n",
    "    autoencoder = load_model('autoencoder.h5')\n",
    "    encoder = Model(autoencoder.input,autoencoder.get_layer(\"latent_space\").output)\n",
    "    for sample in x_rnn:\n",
    "        coded = encoder.predict(sample)\n",
    "        x.append(coded)\n",
    "    X = np.asarray(x)\n",
    "    \n",
    "    #Modelo 3\n",
    "    print(\"Modelo 3 -------------------------------------------------------------------------------\")\n",
    "    rmse_3 = model_3.evaluate(X,y)\n",
    "    rows.append([\"Modelo 3\",rango_bins,rmse_3[1]])\n",
    "    \n",
    "    #Conjunto de datos para modelos 4,5 y 6\n",
    "    max_length = 122\n",
    "    model_limit = []\n",
    "    sequences = []\n",
    "    for model in df_temp.Sistema.tolist():\n",
    "        model_limit.append(model[0:max_length])\n",
    "    index = {char:i+1 for i,char in enumerate(vocab_sistema)}\n",
    "    sequences=[]\n",
    "    for element in model_limit:\n",
    "        sequence = []\n",
    "        for char in element:\n",
    "            sequence.append(index[char])\n",
    "        \n",
    "        sequences.append(sequence)\n",
    "\n",
    "    padded = pad_sequences(sequences,maxlen=max_length,padding='post')\n",
    "    X = np.asarray(padded)\n",
    "    \n",
    "    #Modelo 4\n",
    "    print(\"Modelo 4 -------------------------------------------------------------------------------\")\n",
    "    rmse_4 = model_4.evaluate(X,y)\n",
    "    rows.append([\"Modelo 4\",rango_bins,rmse_4[1]])\n",
    "    #Modelo 5\n",
    "    print(\"Modelo 5 -------------------------------------------------------------------------------\")\n",
    "    rmse_5 = model_5.evaluate(X,y)\n",
    "    rows.append([\"Modelo 5\",rango_bins,rmse_5[1]])\n",
    "    #Modelo 6\n",
    "    print(\"Modelo 6 -------------------------------------------------------------------------------\")\n",
    "    rmse_6 = model_6.evaluate([X,X,X],y)\n",
    "    rows.append([\"Modelo 6\",rango_bins,rmse_6[1]])\n",
    "    \n",
    "heatmap_data = pd.DataFrame(rows, columns=['Modelos', 'Bins', 'RMSE'])\n",
    "heatmap_data = heatmap_data.pivot(index=\"Bins\",columns=\"Modelos\",values=\"RMSE\")"
   ]
  },
  {
   "cell_type": "code",
   "execution_count": 210,
   "metadata": {},
   "outputs": [
    {
     "data": {
      "text/plain": [
       "<AxesSubplot:xlabel='Modelos', ylabel='Bins'>"
      ]
     },
     "execution_count": 210,
     "metadata": {},
     "output_type": "execute_result"
    },
    {
     "data": {
      "image/png": "[encoded data removed]",
      "text/plain": [
       "<Figure size 432x288 with 2 Axes>"
      ]
     },
     "metadata": {
      "needs_background": "light"
     },
     "output_type": "display_data"
    }
   ],
   "source": [
    "sns.heatmap(heatmap_data,annot=True,center=1)"
   ]
  },
  {
   "cell_type": "code",
   "execution_count": 211,
   "metadata": {},
   "outputs": [
    {
     "data": {
      "text/html": [
       "<div>\n",
       "<style scoped>\n",
       "    .dataframe tbody tr th:only-of-type {\n",
       "        vertical-align: middle;\n",
       "    }\n",
       "\n",
       "    .dataframe tbody tr th {\n",
       "        vertical-align: top;\n",
       "    }\n",
       "\n",
       "    .dataframe thead th {\n",
       "        text-align: right;\n",
       "    }\n",
       "</style>\n",
       "<table border=\"1\" class=\"dataframe\">\n",
       "  <thead>\n",
       "    <tr style=\"text-align: right;\">\n",
       "      <th></th>\n",
       "      <th>Modelo 1</th>\n",
       "      <th>Modelo 2</th>\n",
       "      <th>Modelo 3</th>\n",
       "      <th>Modelo 4</th>\n",
       "      <th>Modelo 5</th>\n",
       "      <th>Modelo 6</th>\n",
       "    </tr>\n",
       "    <tr>\n",
       "      <th>Bins</th>\n",
       "      <th></th>\n",
       "      <th></th>\n",
       "      <th></th>\n",
       "      <th></th>\n",
       "      <th></th>\n",
       "      <th></th>\n",
       "    </tr>\n",
       "  </thead>\n",
       "  <tbody>\n",
       "    <tr>\n",
       "      <th>Media del rango: 0.7-1.0</th>\n",
       "      <td>0.439445</td>\n",
       "      <td>0.4456</td>\n",
       "      <td>0.594359</td>\n",
       "      <td>0.478824</td>\n",
       "      <td>0.508382</td>\n",
       "      <td>0.510862</td>\n",
       "    </tr>\n",
       "  </tbody>\n",
       "</table>\n",
       "</div>"
      ],
      "text/plain": [
       "                          Modelo 1  Modelo 2  Modelo 3  Modelo 4  Modelo 5  \\\n",
       "Bins                                                                         \n",
       "Media del rango: 0.7-1.0  0.439445    0.4456  0.594359  0.478824  0.508382   \n",
       "\n",
       "                          Modelo 6  \n",
       "Bins                                \n",
       "Media del rango: 0.7-1.0  0.510862  "
      ]
     },
     "execution_count": 211,
     "metadata": {},
     "output_type": "execute_result"
    }
   ],
   "source": [
    "results = dict()\n",
    "results[\"Bins\"] = [\"Media del rango: 0.7-1.0\"]\n",
    "for column in heatmap_data:\n",
    "    results[column] = [heatmap_data.iloc[[7,8,9]][column].mean()]\n",
    "average_bins = pd.DataFrame.from_dict(results).set_index('Bins')\n",
    "average_bins"
   ]
  },
  {
   "cell_type": "markdown",
   "metadata": {},
   "source": [
    "# Conexión del Modelo 1 con la generación de sistemas-L"
   ]
  },
  {
   "cell_type": "code",
   "execution_count": 17,
   "metadata": {},
   "outputs": [
    {
     "name": "stdout",
     "output_type": "stream",
     "text": [
      "DD {'F': '', 'D': '[F+]---'} 45\n",
      "['DD', '[F+]---[F+]---', '[+]---[+]---', '[+]---[+]---', '[+]---[+]---']\n",
      "F {'F': 'LFLL+FF', 'L': 'FF--+F-+'} 36\n",
      "['F', 'LFLL+FF', 'FF--+F-+LFLL+FFFF--+F-+FF--+F-++LFLL+FFLFLL+FF', 'LFLL+FFLFLL+FF--+LFLL+FF-+FF--+F-+LFLL+FFFF--+F-+FF--+F-++LFLL+FFLFLL+FFLFLL+FFLFLL+FF--+LFLL+FF-+LFLL+FFLFLL+FF--+LFLL+FF-++FF--+F-+LFLL+FFFF--+F-+FF--+F-++LFLL+FFLFLL+FFFF--+F-+LFLL+FFFF--+F-+FF--+F-++LFLL+FFLFLL+FF', 'FF--+F-+LFLL+FFFF--+F-+FF--+F-++LFLL+FFLFLL+FFFF--+F-+LFLL+FFFF--+F-+FF--+F-++LFLL+FFLFLL+FF--+FF--+F-+LFLL+FFFF--+F-+FF--+F-++LFLL+FFLFLL+FF-+LFLL+FFLFLL+FF--+LFLL+FF-+FF--+F-+LFLL+FFFF--+F-+FF--+F-++LFLL+FFLFLL+FFLFLL+FFLFLL+FF--+LFLL+FF-+LFLL+FFLFLL+FF--+LFLL+FF-++FF--+F-+LFLL+FFFF--+F-+FF--+F-++LFLL+FFLFLL+FFFF--+F-+LFLL+FFFF--+F-+FF--+F-++LFLL+FFLFLL+FFFF--+F-+LFLL+FFFF--+F-+FF--+F-++LFLL+FFLFLL+FFFF--+F-+LFLL+FFFF--+F-+FF--+F-++LFLL+FFLFLL+FF--+FF--+F-+LFLL+FFFF--+F-+FF--+F-++LFLL+FFLFLL+FF-+FF--+F-+LFLL+FFFF--+F-+FF--+F-++LFLL+FFLFLL+FFFF--+F-+LFLL+FFFF--+F-+FF--+F-++LFLL+FFLFLL+FF--+FF--+F-+LFLL+FFFF--+F-+FF--+F-++LFLL+FFLFLL+FF-++LFLL+FFLFLL+FF--+LFLL+FF-+FF--+F-+LFLL+FFFF--+F-+FF--+F-++LFLL+FFLFLL+FFLFLL+FFLFLL+FF--+LFLL+FF-+LFLL+FFLFLL+FF--+LFLL+FF-++FF--+F-+LFLL+FFFF--+F-+FF--+F-++LFLL+FFLFLL+FFFF--+F-+LFLL+FFFF--+F-+FF--+F-++LFLL+FFLFLL+FFLFLL+FFLFLL+FF--+LFLL+FF-+FF--+F-+LFLL+FFFF--+F-+FF--+F-++LFLL+FFLFLL+FFLFLL+FFLFLL+FF--+LFLL+FF-+LFLL+FFLFLL+FF--+LFLL+FF-++FF--+F-+LFLL+FFFF--+F-+FF--+F-++LFLL+FFLFLL+FFFF--+F-+LFLL+FFFF--+F-+FF--+F-++LFLL+FFLFLL+FF']\n",
      "AFA {'F': '', 'H': 'F+--HFFFFF', 'A': 'FRAA', 'R': 'FFF-'} 265\n",
      "['AFA', 'FRAAFRAA', 'FFF-FRAAFRAAFFF-FRAAFRAA', '-FFF-FRAAFRAAFFF-FRAAFRAA-FFF-FRAAFRAAFFF-FRAAFRAA', '--FFF-FRAAFRAAFFF-FRAAFRAA-FFF-FRAAFRAAFFF-FRAAFRAA--FFF-FRAAFRAAFFF-FRAAFRAA-FFF-FRAAFRAAFFF-FRAAFRAA']\n",
      "YYFYY {'F': '[]FF-YF+-', 'K': '-', 'Y': ''} 64\n",
      "['YYFYY', '[]FF-YF+-', '[][]FF-YF+-[]FF-YF+--[]FF-YF+-+-', '[][][]FF-YF+-[]FF-YF+--[]FF-YF+-+-[][]FF-YF+-[]FF-YF+--[]FF-YF+-+--[][]FF-YF+-[]FF-YF+--[]FF-YF+-+-+-', '[][][][]FF-YF+-[]FF-YF+--[]FF-YF+-+-[][]FF-YF+-[]FF-YF+--[]FF-YF+-+--[][]FF-YF+-[]FF-YF+--[]FF-YF+-+-+-[][][]FF-YF+-[]FF-YF+--[]FF-YF+-+-[][]FF-YF+-[]FF-YF+--[]FF-YF+-+--[][]FF-YF+-[]FF-YF+--[]FF-YF+-+-+--[][][]FF-YF+-[]FF-YF+--[]FF-YF+-+-[][]FF-YF+-[]FF-YF+--[]FF-YF+-+--[][]FF-YF+-[]FF-YF+--[]FF-YF+-+-+-+-']\n",
      "TTFJ {'F': '', 'L': 'L++TTL+', 'J': '', 'G': '+TGJL', 'T': 'FFF'} 60\n",
      "['TTFJ', 'FFFFFF', '', '', '']\n",
      "FPPP {'F': 'F', 'P': 'P-F'} 60\n",
      "['FPPP', 'FP-FP-FP-F', 'FP-F-FP-F-FP-F-F', 'FP-F-F-FP-F-F-FP-F-F-F', 'FP-F-F-F-FP-F-F-F-FP-F-F-F-F']\n",
      "F {'F': 'PPL-L', 'L': '-+F+-', 'X': 'X+LLXP+P', 'P': 'FF'} 45\n",
      "['F', 'PPL-L', 'FFFF-+F+---+F+-', 'PPL-LPPL-LPPL-LPPL-L-+PPL-L+---+PPL-L+-', 'FFFF-+F+---+F+-FFFF-+F+---+F+-FFFF-+F+---+F+-FFFF-+F+---+F+--+FFFF-+F+---+F+-+---+FFFF-+F+---+F+-+-']\n",
      "FFDLL {'F': 'F-[-]-', 'L': '-DF', 'D': '+LFDFF'} 45\n",
      "['FFDLL', 'F-[-]-F-[-]-+LFDFF-DF-DF', 'F-[-]--[-]-F-[-]--[-]-+-DFF-[-]-+LFDFFF-[-]-F-[-]--+LFDFFF-[-]--+LFDFFF-[-]-', 'F-[-]--[-]--[-]-F-[-]--[-]--[-]-+-+LFDFFF-[-]-F-[-]--[-]-+-DFF-[-]-+LFDFFF-[-]-F-[-]-F-[-]--[-]-F-[-]--[-]--+-DFF-[-]-+LFDFFF-[-]-F-[-]-F-[-]--[-]--+-DFF-[-]-+LFDFFF-[-]-F-[-]-F-[-]--[-]-', 'F-[-]--[-]--[-]--[-]-F-[-]--[-]--[-]--[-]-+-+-DFF-[-]-+LFDFFF-[-]-F-[-]-F-[-]--[-]-F-[-]--[-]--[-]-+-+LFDFFF-[-]-F-[-]--[-]-+-DFF-[-]-+LFDFFF-[-]-F-[-]-F-[-]--[-]-F-[-]--[-]-F-[-]--[-]--[-]-F-[-]--[-]--[-]--+-+LFDFFF-[-]-F-[-]--[-]-+-DFF-[-]-+LFDFFF-[-]-F-[-]-F-[-]--[-]-F-[-]--[-]-F-[-]--[-]--[-]--+-+LFDFFF-[-]-F-[-]--[-]-+-DFF-[-]-+LFDFFF-[-]-F-[-]-F-[-]--[-]-F-[-]--[-]-F-[-]--[-]--[-]-']\n",
      "F {'F': '[+]', 'T': '', 'W': '[[]FTFF]'} 60\n",
      "['F', '[+]', '[+]', '[+]', '[+]']\n",
      "YV {'F': '', 'Y': '[[]F-A][A+F]F', 'A': 'FVG+', 'V': 'YGGF', 'G': '[[]]FG+-'} 60\n",
      "['YV', '[[]F-A][A+F]FYGGF', '[[]-FVG+][FVG++][[]F-A][A+F]F[[]]FG+-[[]]FG+-', '[[]-YGGF[[]]FG+-+][YGGF[[]]FG+-++][[]-FVG+][FVG++][[]][[]]FG+-+-[[]][[]]FG+-+-', '[[]-[[]F-A][A+F]F[[]]FG+-[[]]FG+-[[]][[]]FG+-+-+][[[]F-A][A+F]F[[]]FG+-[[]]FG+-[[]][[]]FG+-+-++][[]-YGGF[[]]FG+-+][YGGF[[]]FG+-++][[]][[]][[]]FG+-+-+-[[]][[]][[]]FG+-+-+-']\n",
      "SFSF {'F': '-+++F', 'S': '[[F[]+]S]+'} 278\n",
      "['SFSF', '[[F[]+]S]+-+++F[[F[]+]S]+-+++F', '[[-+++F[]+][[F[]+]S]+]+-+++-+++F[[-+++F[]+][[F[]+]S]+]+-+++-+++F', '[[-+++-+++F[]+][[-+++F[]+][[F[]+]S]+]+]+-+++-+++-+++F[[-+++-+++F[]+][[-+++F[]+][[F[]+]S]+]+]+-+++-+++-+++F', '[[-+++-+++-+++F[]+][[-+++-+++F[]+][[-+++F[]+][[F[]+]S]+]+]+]+-+++-+++-+++-+++F[[-+++-+++-+++F[]+][[-+++-+++F[]+][[-+++F[]+][[F[]+]S]+]+]+]+-+++-+++-+++-+++F']\n",
      "F {'F': '', 'H': '[H]', 'N': '', 'Q': 'FDHFN', 'D': '[FD[H-Q]DF]'} 45\n",
      "['F', '', '', '', '']\n",
      "AAH {'F': 'A', 'H': 'FF++', 'A': 'F[F-FF]F'} 14\n",
      "['AAH', 'F[F-FF]FF[F-FF]FFF++', 'A[A-AA]AA[A-AA]AAA++', 'F[F-FF]F[F[F-FF]F-F[F-FF]FF[F-FF]F]F[F-FF]FF[F-FF]F[F[F-FF]F-F[F-FF]FF[F-FF]F]F[F-FF]FF[F-FF]FF[F-FF]F++', 'A[A-AA]A[A[A-AA]A-A[A-AA]AA[A-AA]A]A[A-AA]AA[A-AA]A[A[A-AA]A-A[A-AA]AA[A-AA]A]A[A-AA]AA[A-AA]AA[A-AA]A++']\n",
      "F {'F': '[+]I', 'I': 'I', 'J': '[]'} 36\n",
      "['F', '[+]I', '[+]I', '[+]I', '[+]I']\n",
      "VV {'F': 'HV+', 'V': 'V++F+', 'H': 'HH', 'N': 'NH-V[H-]-N'} 60\n",
      "['VV', 'V++F+V++F+', 'V++F+++HV++V++F+++HV++', 'V++F+++HV++++HHV++F+++V++F+++HV++++HHV++F+++', 'V++F+++HV++++HHV++F+++++HHHHV++F+++HV++++V++F+++HV++++HHV++F+++++HHHHV++F+++HV++++']\n",
      "M {'F': '', 'J': '[]MFJF', 'M': '[FJF]F-F'} 45\n",
      "['M', '[FJF]F-F', '[[]MFJF]-', '[[][FJF]F-F[]MFJF]-', '[[][[]MFJF]-[][FJF]F-F[]MFJF]-']\n",
      "D {'F': 'VPF', 'P': '[F[P]FV]FF', 'V': 'PF', 'D': 'PP+PFD-PFF'} 326\n",
      "['D', 'PP+PFD-PFF', '[F[P]FV]FF[F[P]FV]FF+[F[P]FV]FFVPFPP+PFD-PFF-[F[P]FV]FFVPFVPF', '[VPF[[F[P]FV]FF]VPFPF]VPFVPF[VPF[[F[P]FV]FF]VPFPF]VPFVPF+[VPF[[F[P]FV]FF]VPFPF]VPFVPFPF[F[P]FV]FFVPF[F[P]FV]FF[F[P]FV]FF+[F[P]FV]FFVPFPP+PFD-PFF-[F[P]FV]FFVPFVPF-[VPF[[F[P]FV]FF]VPFPF]VPFVPFPF[F[P]FV]FFVPFPF[F[P]FV]FFVPF', '[PF[F[P]FV]FFVPF[[VPF[[F[P]FV]FF]VPFPF]VPFVPF]PF[F[P]FV]FFVPF[F[P]FV]FFVPF]PF[F[P]FV]FFVPFPF[F[P]FV]FFVPF[PF[F[P]FV]FFVPF[[VPF[[F[P]FV]FF]VPFPF]VPFVPF]PF[F[P]FV]FFVPF[F[P]FV]FFVPF]PF[F[P]FV]FFVPFPF[F[P]FV]FFVPF+[PF[F[P]FV]FFVPF[[VPF[[F[P]FV]FF]VPFPF]VPFVPF]PF[F[P]FV]FFVPF[F[P]FV]FFVPF]PF[F[P]FV]FFVPFPF[F[P]FV]FFVPF[F[P]FV]FFVPF[VPF[[F[P]FV]FF]VPFPF]VPFVPFPF[F[P]FV]FFVPF[VPF[[F[P]FV]FF]VPFPF]VPFVPF[VPF[[F[P]FV]FF]VPFPF]VPFVPF+[VPF[[F[P]FV]FF]VPFPF]VPFVPFPF[F[P]FV]FFVPF[F[P]FV]FF[F[P]FV]FF+[F[P]FV]FFVPFPP+PFD-PFF-[F[P]FV]FFVPFVPF-[VPF[[F[P]FV]FF]VPFPF]VPFVPFPF[F[P]FV]FFVPFPF[F[P]FV]FFVPF-[PF[F[P]FV]FFVPF[[VPF[[F[P]FV]FF]VPFPF]VPFVPF]PF[F[P]FV]FFVPF[F[P]FV]FFVPF]PF[F[P]FV]FFVPFPF[F[P]FV]FFVPF[F[P]FV]FFVPF[VPF[[F[P]FV]FF]VPFPF]VPFVPFPF[F[P]FV]FFVPF[F[P]FV]FFVPF[VPF[[F[P]FV]FF]VPFPF]VPFVPFPF[F[P]FV]FFVPF']\n",
      "UBBB {'F': 'F+', 'U': 'B[F+FF]', 'B': '-BFFB-', 'M': 'FBF'} 45\n",
      "['UBBB', 'B[F+FF]-BFFB--BFFB--BFFB-', '-BFFB-[F++F+F+]--BFFB-F+F+-BFFB----BFFB-F+F+-BFFB----BFFB-F+F+-BFFB--', '--BFFB-F+F+-BFFB--[F+++F++F++]---BFFB-F+F+-BFFB--F++F++--BFFB-F+F+-BFFB------BFFB-F+F+-BFFB--F++F++--BFFB-F+F+-BFFB------BFFB-F+F+-BFFB--F++F++--BFFB-F+F+-BFFB---', '---BFFB-F+F+-BFFB--F++F++--BFFB-F+F+-BFFB---[F++++F+++F+++]----BFFB-F+F+-BFFB--F++F++--BFFB-F+F+-BFFB---F+++F+++---BFFB-F+F+-BFFB--F++F++--BFFB-F+F+-BFFB--------BFFB-F+F+-BFFB--F++F++--BFFB-F+F+-BFFB---F+++F+++---BFFB-F+F+-BFFB--F++F++--BFFB-F+F+-BFFB--------BFFB-F+F+-BFFB--F++F++--BFFB-F+F+-BFFB---F+++F+++---BFFB-F+F+-BFFB--F++F++--BFFB-F+F+-BFFB----']\n",
      "JJ {'F': 'F-F', 'J': '[]-FXJ', 'X': 'J[[-][--]F+]'} 90\n",
      "['JJ', '[]-FXJ[]-FXJ', '[]-F-FJ[[-][--]F+][]-FXJ[]-F-FJ[[-][--]F+][]-FXJ', '[]-F-F-F-F[]-FXJ[[-][--]F-F+][]-F-FJ[[-][--]F+][]-FXJ[]-F-F-F-F[]-FXJ[[-][--]F-F+][]-F-FJ[[-][--]F+][]-FXJ', '[]-F-F-F-F-F-F-F-F[]-F-FJ[[-][--]F+][]-FXJ[[-][--]F-F-F-F+][]-F-F-F-F[]-FXJ[[-][--]F-F+][]-F-FJ[[-][--]F+][]-FXJ[]-F-F-F-F-F-F-F-F[]-F-FJ[[-][--]F+][]-FXJ[[-][--]F-F-F-F+][]-F-F-F-F[]-FXJ[[-][--]F-F+][]-F-FJ[[-][--]F+][]-FXJ']\n",
      "IE {'F': 'FFFEI++', 'E': 'F+E', 'I': 'E'} 90\n",
      "['IE', 'EF+E', 'F+EFFFEI+++F+E', 'FFFEI+++F+EFFFEI++FFFEI++FFFEI++F+EE+++FFFEI+++F+E', 'FFFEI++FFFEI++FFFEI++F+EE+++FFFEI+++F+EFFFEI++FFFEI++FFFEI++F+EE++FFFEI++FFFEI++FFFEI++F+EE++FFFEI++FFFEI++FFFEI++F+EE++FFFEI+++F+EF+E+++FFFEI++FFFEI++FFFEI++F+EE+++FFFEI+++F+E']\n",
      "CCTFF {'F': '', 'T': 'FTFC[T]', 'C': '[T[]FTF-CF]'} 36\n",
      "['CCTFF', '[T[]FTF-CF][T[]FTF-CF]FTFC[T]', '[FTFC[T][]FTFC[T]-[T[]FTF-CF]][FTFC[T][]FTFC[T]-[T[]FTF-CF]]FTFC[T][T[]FTF-CF][FTFC[T]]', '[FTFC[T][T[]FTF-CF][FTFC[T]][]FTFC[T][T[]FTF-CF][FTFC[T]]-[FTFC[T][]FTFC[T]-[T[]FTF-CF]]][FTFC[T][T[]FTF-CF][FTFC[T]][]FTFC[T][T[]FTF-CF][FTFC[T]]-[FTFC[T][]FTFC[T]-[T[]FTF-CF]]]FTFC[T][T[]FTF-CF][FTFC[T]][FTFC[T][]FTFC[T]-[T[]FTF-CF]][FTFC[T][T[]FTF-CF][FTFC[T]]]', '[FTFC[T][T[]FTF-CF][FTFC[T]][FTFC[T][]FTFC[T]-[T[]FTF-CF]][FTFC[T][T[]FTF-CF][FTFC[T]]][]FTFC[T][T[]FTF-CF][FTFC[T]][FTFC[T][]FTFC[T]-[T[]FTF-CF]][FTFC[T][T[]FTF-CF][FTFC[T]]]-[FTFC[T][T[]FTF-CF][FTFC[T]][]FTFC[T][T[]FTF-CF][FTFC[T]]-[FTFC[T][]FTFC[T]-[T[]FTF-CF]]]][FTFC[T][T[]FTF-CF][FTFC[T]][FTFC[T][]FTFC[T]-[T[]FTF-CF]][FTFC[T][T[]FTF-CF][FTFC[T]]][]FTFC[T][T[]FTF-CF][FTFC[T]][FTFC[T][]FTFC[T]-[T[]FTF-CF]][FTFC[T][T[]FTF-CF][FTFC[T]]]-[FTFC[T][T[]FTF-CF][FTFC[T]][]FTFC[T][T[]FTF-CF][FTFC[T]]-[FTFC[T][]FTFC[T]-[T[]FTF-CF]]]]FTFC[T][T[]FTF-CF][FTFC[T]][FTFC[T][]FTFC[T]-[T[]FTF-CF]][FTFC[T][T[]FTF-CF][FTFC[T]]][FTFC[T][T[]FTF-CF][FTFC[T]][]FTFC[T][T[]FTF-CF][FTFC[T]]-[FTFC[T][]FTFC[T]-[T[]FTF-CF]]][FTFC[T][T[]FTF-CF][FTFC[T]][FTFC[T][]FTFC[T]-[T[]FTF-CF]][FTFC[T][T[]FTF-CF][FTFC[T]]]]']\n"
     ]
    },
    {
     "name": "stdout",
     "output_type": "stream",
     "text": [
      "PF {'F': 'F', 'P': '-FAMFAP', 'A': '', 'M': 'FFP'} 114\n",
      "['PF', '-FAMFAPF', '-FFFPF-FAMFAPF', '-FFF-FAMFAPF-FFFPF-FAMFAPF', '-FFF-FFFPF-FAMFAPF-FFF-FAMFAPF-FFFPF-FAMFAPF']\n",
      "F {'F': 'F', 'G': 'K+-[-]K', 'K': 'J', 'T': '[FF]+FKG', 'J': '+F-+TG'} 36\n",
      "['F', 'F', 'F', 'F', 'F']\n",
      "X {'F': '[]+[X]-', 'X': '[[F]+-F]F'} 60\n",
      "['X', '[[F]+-F]F', '[[[]+[X]-]+-[]+[X]-][]+[X]-', '[[[]+[[[F]+-F]F]-]+-[]+[[[F]+-F]F]-][]+[[[F]+-F]F]-', '[[[]+[[[[]+[X]-]+-[]+[X]-][]+[X]-]-]+-[]+[[[[]+[X]-]+-[]+[X]-][]+[X]-]-][]+[[[[]+[X]-]+-[]+[X]-][]+[X]-]-']\n",
      "FFMFF {'F': '+A[-]+', 'A': '[F]F', 'M': '[F]MA[FF]'} 224\n",
      "['FFMFF', '+A[-]++A[-]+[F]MA[FF]+A[-]++A[-]+', '+[F]F[-]++[F]F[-]+[+A[-]+][F]MA[FF][F]F[+A[-]++A[-]+]+[F]F[-]++[F]F[-]+', '+[+A[-]+]+A[-]+[-]++[+A[-]+]+A[-]+[-]+[+[F]F[-]+][+A[-]+][F]MA[FF][F]F[+A[-]++A[-]+][+A[-]+]+A[-]+[+[F]F[-]++[F]F[-]+]+[+A[-]+]+A[-]+[-]++[+A[-]+]+A[-]+[-]+', '+[+[F]F[-]+]+[F]F[-]+[-]++[+[F]F[-]+]+[F]F[-]+[-]+[+[+A[-]+]+A[-]+[-]+][+[F]F[-]+][+A[-]+][F]MA[FF][F]F[+A[-]++A[-]+][+A[-]+]+A[-]+[+[F]F[-]++[F]F[-]+][+[F]F[-]+]+[F]F[-]+[+[+A[-]+]+A[-]+[-]++[+A[-]+]+A[-]+[-]+]+[+[F]F[-]+]+[F]F[-]+[-]++[+[F]F[-]+]+[F]F[-]+[-]+']\n",
      "FAAS {'F': 'SF[P[A+F]]S', 'P': '-PF-SFF', 'S': 'F-S[+P]', 'A': '[]AAFF'} 90\n",
      "['FAAS', 'SF[P[A+F]]S[]AAFF[]AAFFF-S[+P]', 'F-S[+P]SF[P[A+F]]S[-PF-SFF[[]AAFF+SF[P[A+F]]S]]F-S[+P][][]AAFF[]AAFFSF[P[A+F]]SSF[P[A+F]]S[][]AAFF[]AAFFSF[P[A+F]]SSF[P[A+F]]SSF[P[A+F]]S-F-S[+P][+-PF-SFF]', 'SF[P[A+F]]S-F-S[+P][+-PF-SFF]F-S[+P]SF[P[A+F]]S[-PF-SFF[[]AAFF+SF[P[A+F]]S]]F-S[+P][--PF-SFFSF[P[A+F]]S-F-S[+P]SF[P[A+F]]SSF[P[A+F]]S[[][]AAFF[]AAFFSF[P[A+F]]SSF[P[A+F]]S+F-S[+P]SF[P[A+F]]S[-PF-SFF[[]AAFF+SF[P[A+F]]S]]F-S[+P]]]SF[P[A+F]]S-F-S[+P][+-PF-SFF][][][]AAFF[]AAFFSF[P[A+F]]SSF[P[A+F]]S[][]AAFF[]AAFFSF[P[A+F]]SSF[P[A+F]]SF-S[+P]SF[P[A+F]]S[-PF-SFF[[]AAFF+SF[P[A+F]]S]]F-S[+P]F-S[+P]SF[P[A+F]]S[-PF-SFF[[]AAFF+SF[P[A+F]]S]]F-S[+P][][][]AAFF[]AAFFSF[P[A+F]]SSF[P[A+F]]S[][]AAFF[]AAFFSF[P[A+F]]SSF[P[A+F]]SF-S[+P]SF[P[A+F]]S[-PF-SFF[[]AAFF+SF[P[A+F]]S]]F-S[+P]F-S[+P]SF[P[A+F]]S[-PF-SFF[[]AAFF+SF[P[A+F]]S]]F-S[+P]F-S[+P]SF[P[A+F]]S[-PF-SFF[[]AAFF+SF[P[A+F]]S]]F-S[+P]-SF[P[A+F]]S-F-S[+P][+-PF-SFF][+--PF-SFFSF[P[A+F]]S-F-S[+P]SF[P[A+F]]SSF[P[A+F]]S]', 'F-S[+P]SF[P[A+F]]S[-PF-SFF[[]AAFF+SF[P[A+F]]S]]F-S[+P]-SF[P[A+F]]S-F-S[+P][+-PF-SFF][+--PF-SFFSF[P[A+F]]S-F-S[+P]SF[P[A+F]]SSF[P[A+F]]S]SF[P[A+F]]S-F-S[+P][+-PF-SFF]F-S[+P]SF[P[A+F]]S[-PF-SFF[[]AAFF+SF[P[A+F]]S]]F-S[+P][--PF-SFFSF[P[A+F]]S-F-S[+P]SF[P[A+F]]SSF[P[A+F]]S[[][]AAFF[]AAFFSF[P[A+F]]SSF[P[A+F]]S+F-S[+P]SF[P[A+F]]S[-PF-SFF[[]AAFF+SF[P[A+F]]S]]F-S[+P]]]SF[P[A+F]]S-F-S[+P][+-PF-SFF][---PF-SFFSF[P[A+F]]S-F-S[+P]SF[P[A+F]]SSF[P[A+F]]SF-S[+P]SF[P[A+F]]S[-PF-SFF[[]AAFF+SF[P[A+F]]S]]F-S[+P]-SF[P[A+F]]S-F-S[+P][+-PF-SFF]F-S[+P]SF[P[A+F]]S[-PF-SFF[[]AAFF+SF[P[A+F]]S]]F-S[+P]F-S[+P]SF[P[A+F]]S[-PF-SFF[[]AAFF+SF[P[A+F]]S]]F-S[+P][[][][]AAFF[]AAFFSF[P[A+F]]SSF[P[A+F]]S[][]AAFF[]AAFFSF[P[A+F]]SSF[P[A+F]]SF-S[+P]SF[P[A+F]]S[-PF-SFF[[]AAFF+SF[P[A+F]]S]]F-S[+P]F-S[+P]SF[P[A+F]]S[-PF-SFF[[]AAFF+SF[P[A+F]]S]]F-S[+P]+SF[P[A+F]]S-F-S[+P][+-PF-SFF]F-S[+P]SF[P[A+F]]S[-PF-SFF[[]AAFF+SF[P[A+F]]S]]F-S[+P][--PF-SFFSF[P[A+F]]S-F-S[+P]SF[P[A+F]]SSF[P[A+F]]S[[][]AAFF[]AAFFSF[P[A+F]]SSF[P[A+F]]S+F-S[+P]SF[P[A+F]]S[-PF-SFF[[]AAFF+SF[P[A+F]]S]]F-S[+P]]]SF[P[A+F]]S-F-S[+P][+-PF-SFF]]]F-S[+P]SF[P[A+F]]S[-PF-SFF[[]AAFF+SF[P[A+F]]S]]F-S[+P]-SF[P[A+F]]S-F-S[+P][+-PF-SFF][+--PF-SFFSF[P[A+F]]S-F-S[+P]SF[P[A+F]]SSF[P[A+F]]S][][][][]AAFF[]AAFFSF[P[A+F]]SSF[P[A+F]]S[][]AAFF[]AAFFSF[P[A+F]]SSF[P[A+F]]SF-S[+P]SF[P[A+F]]S[-PF-SFF[[]AAFF+SF[P[A+F]]S]]F-S[+P]F-S[+P]SF[P[A+F]]S[-PF-SFF[[]AAFF+SF[P[A+F]]S]]F-S[+P][][][]AAFF[]AAFFSF[P[A+F]]SSF[P[A+F]]S[][]AAFF[]AAFFSF[P[A+F]]SSF[P[A+F]]SF-S[+P]SF[P[A+F]]S[-PF-SFF[[]AAFF+SF[P[A+F]]S]]F-S[+P]F-S[+P]SF[P[A+F]]S[-PF-SFF[[]AAFF+SF[P[A+F]]S]]F-S[+P]SF[P[A+F]]S-F-S[+P][+-PF-SFF]F-S[+P]SF[P[A+F]]S[-PF-SFF[[]AAFF+SF[P[A+F]]S]]F-S[+P][--PF-SFFSF[P[A+F]]S-F-S[+P]SF[P[A+F]]SSF[P[A+F]]S[[][]AAFF[]AAFFSF[P[A+F]]SSF[P[A+F]]S+F-S[+P]SF[P[A+F]]S[-PF-SFF[[]AAFF+SF[P[A+F]]S]]F-S[+P]]]SF[P[A+F]]S-F-S[+P][+-PF-SFF]SF[P[A+F]]S-F-S[+P][+-PF-SFF]F-S[+P]SF[P[A+F]]S[-PF-SFF[[]AAFF+SF[P[A+F]]S]]F-S[+P][--PF-SFFSF[P[A+F]]S-F-S[+P]SF[P[A+F]]SSF[P[A+F]]S[[][]AAFF[]AAFFSF[P[A+F]]SSF[P[A+F]]S+F-S[+P]SF[P[A+F]]S[-PF-SFF[[]AAFF+SF[P[A+F]]S]]F-S[+P]]]SF[P[A+F]]S-F-S[+P][+-PF-SFF][][][][]AAFF[]AAFFSF[P[A+F]]SSF[P[A+F]]S[][]AAFF[]AAFFSF[P[A+F]]SSF[P[A+F]]SF-S[+P]SF[P[A+F]]S[-PF-SFF[[]AAFF+SF[P[A+F]]S]]F-S[+P]F-S[+P]SF[P[A+F]]S[-PF-SFF[[]AAFF+SF[P[A+F]]S]]F-S[+P][][][]AAFF[]AAFFSF[P[A+F]]SSF[P[A+F]]S[][]AAFF[]AAFFSF[P[A+F]]SSF[P[A+F]]SF-S[+P]SF[P[A+F]]S[-PF-SFF[[]AAFF+SF[P[A+F]]S]]F-S[+P]F-S[+P]SF[P[A+F]]S[-PF-SFF[[]AAFF+SF[P[A+F]]S]]F-S[+P]SF[P[A+F]]S-F-S[+P][+-PF-SFF]F-S[+P]SF[P[A+F]]S[-PF-SFF[[]AAFF+SF[P[A+F]]S]]F-S[+P][--PF-SFFSF[P[A+F]]S-F-S[+P]SF[P[A+F]]SSF[P[A+F]]S[[][]AAFF[]AAFFSF[P[A+F]]SSF[P[A+F]]S+F-S[+P]SF[P[A+F]]S[-PF-SFF[[]AAFF+SF[P[A+F]]S]]F-S[+P]]]SF[P[A+F]]S-F-S[+P][+-PF-SFF]SF[P[A+F]]S-F-S[+P][+-PF-SFF]F-S[+P]SF[P[A+F]]S[-PF-SFF[[]AAFF+SF[P[A+F]]S]]F-S[+P][--PF-SFFSF[P[A+F]]S-F-S[+P]SF[P[A+F]]SSF[P[A+F]]S[[][]AAFF[]AAFFSF[P[A+F]]SSF[P[A+F]]S+F-S[+P]SF[P[A+F]]S[-PF-SFF[[]AAFF+SF[P[A+F]]S]]F-S[+P]]]SF[P[A+F]]S-F-S[+P][+-PF-SFF]SF[P[A+F]]S-F-S[+P][+-PF-SFF]F-S[+P]SF[P[A+F]]S[-PF-SFF[[]AAFF+SF[P[A+F]]S]]F-S[+P][--PF-SFFSF[P[A+F]]S-F-S[+P]SF[P[A+F]]SSF[P[A+F]]S[[][]AAFF[]AAFFSF[P[A+F]]SSF[P[A+F]]S+F-S[+P]SF[P[A+F]]S[-PF-SFF[[]AAFF+SF[P[A+F]]S]]F-S[+P]]]SF[P[A+F]]S-F-S[+P][+-PF-SFF]-F-S[+P]SF[P[A+F]]S[-PF-SFF[[]AAFF+SF[P[A+F]]S]]F-S[+P]-SF[P[A+F]]S-F-S[+P][+-PF-SFF][+--PF-SFFSF[P[A+F]]S-F-S[+P]SF[P[A+F]]SSF[P[A+F]]S][+---PF-SFFSF[P[A+F]]S-F-S[+P]SF[P[A+F]]SSF[P[A+F]]SF-S[+P]SF[P[A+F]]S[-PF-SFF[[]AAFF+SF[P[A+F]]S]]F-S[+P]-SF[P[A+F]]S-F-S[+P][+-PF-SFF]F-S[+P]SF[P[A+F]]S[-PF-SFF[[]AAFF+SF[P[A+F]]S]]F-S[+P]F-S[+P]SF[P[A+F]]S[-PF-SFF[[]AAFF+SF[P[A+F]]S]]F-S[+P]]']\n",
      "FIF {'F': '+--[F+F]--', 'I': 'F--F-F+I'} 102\n",
      "['FIF', '+--[F+F]--F--F-F+I+--[F+F]--', '+--[+--[F+F]--++--[F+F]--]--+--[F+F]----+--[F+F]---+--[F+F]--+F--F-F+I+--[+--[F+F]--++--[F+F]--]--', '+--[+--[+--[F+F]--++--[F+F]--]--++--[+--[F+F]--++--[F+F]--]--]--+--[+--[F+F]--++--[F+F]--]----+--[+--[F+F]--++--[F+F]--]---+--[+--[F+F]--++--[F+F]--]--++--[F+F]----+--[F+F]---+--[F+F]--+F--F-F+I+--[+--[+--[F+F]--++--[F+F]--]--++--[+--[F+F]--++--[F+F]--]--]--', '+--[+--[+--[+--[F+F]--++--[F+F]--]--++--[+--[F+F]--++--[F+F]--]--]--++--[+--[+--[F+F]--++--[F+F]--]--++--[+--[F+F]--++--[F+F]--]--]--]--+--[+--[+--[F+F]--++--[F+F]--]--++--[+--[F+F]--++--[F+F]--]--]----+--[+--[+--[F+F]--++--[F+F]--]--++--[+--[F+F]--++--[F+F]--]--]---+--[+--[+--[F+F]--++--[F+F]--]--++--[+--[F+F]--++--[F+F]--]--]--++--[+--[F+F]--++--[F+F]--]----+--[+--[F+F]--++--[F+F]--]---+--[+--[F+F]--++--[F+F]--]--++--[F+F]----+--[F+F]---+--[F+F]--+F--F-F+I+--[+--[+--[+--[F+F]--++--[F+F]--]--++--[+--[F+F]--++--[F+F]--]--]--++--[+--[+--[F+F]--++--[F+F]--]--++--[+--[F+F]--++--[F+F]--]--]--]--']\n"
     ]
    },
    {
     "data": {
      "image/png": "[encoded data removed]",
      "text/plain": [
       "<Figure size 512x328 with 1 Axes>"
      ]
     },
     "metadata": {
      "needs_background": "light"
     },
     "output_type": "display_data"
    }
   ],
   "source": [
    "system = {}\n",
    "prev_fig = None\n",
    "model_1 = load_model('model_1.h5')\n",
    "\n",
    "# @ambron60\n",
    "def derivation(axiom, steps, rules):\n",
    "    derived = [axiom]  # seed\n",
    "    for _ in range(steps):\n",
    "        next_seq = derived[-1]\n",
    "        next_axiom = [rule(char,rules) for char in next_seq]\n",
    "        derived.append(''.join(next_axiom)) \n",
    "    return derived\n",
    "\n",
    "# @ambron60\n",
    "def rule(sequence, rules):\n",
    "    if sequence in rules:\n",
    "        return rules[sequence]\n",
    "    return sequence\n",
    "\n",
    "def generator_GUI_with_model(): \n",
    "\n",
    "    def generate_drawing():\n",
    "        global prev_fig,system\n",
    "        start,rules,angle,iter = generate()\n",
    "        system['Start'] = start\n",
    "        system['Rules'] = rules\n",
    "        system['Angle'] = angle\n",
    "        print(start,rules,angle)\n",
    "        model = derivation(start,4,rules) \n",
    "        print(model)\n",
    "        \n",
    "        if not prev_fig == None:\n",
    "            plt.clf()\n",
    "            plt.close(\"all\")\n",
    "        \n",
    "        fig = plot2d(model[-1],angle,colors={'blue':'blue'})\n",
    "        prev_fig = fig\n",
    "        \n",
    "        canvas = FigureCanvasTkAgg(fig,master=window)\n",
    "        canvas.get_tk_widget().grid(row=1, column=0, ipadx=40, ipady=20)\n",
    "\n",
    "\n",
    "    def process():\n",
    "        global system\n",
    "        generate_drawing()\n",
    "        \n",
    "    def prediction():\n",
    "        text = box.get()\n",
    "        if text == \"\" or not re.search(\"^\\d{0,2}$\",text) or int(text) > 50:\n",
    "            messagebox.showerror(title=\"Incorrecto\", message=\"Introduzca un número correcto\")\n",
    "            return\n",
    "        \n",
    "        Lsystem = derivation(system['Start'],4,system['Rules']) [-1]\n",
    "        max_length = 5000\n",
    "        model_limit = []\n",
    "        sequences = []\n",
    "        Lsystem_limited = Lsystem[0:max_length]\n",
    "        \n",
    "        index = {char:i+1 for i,char in enumerate(vocab_desarrollado)}\n",
    "        sequence = []\n",
    "        for char in Lsystem_limited:\n",
    "            sequence.append(index[char])\n",
    "\n",
    "        padded = pad_sequences([sequence],maxlen=max_length,padding='post')\n",
    "        x = np.asarray(padded)\n",
    "        prediction = round(model_1.predict(x)[0][0],2)\n",
    "        label_2[\"text\"] = round(prediction*50,2)\n",
    "        \n",
    "        with open('sistemas_con_calidad.csv', 'a',newline='') as f_csv:\n",
    "            writer = csv.writer(f_csv)\n",
    "            writer.writerow([system['Start'],str(system['Rules']),system['Angle'],prediction,int(text)/50])\n",
    "    \n",
    "    window = tkinter.Tk()\n",
    "    window.resizable(False, False)\n",
    "    window.title('Generador Sistemas L')\n",
    "\n",
    "    \n",
    "    frame = tkinter.LabelFrame(window, text='LSystems', bg='#f0f0f0', font=(20))\n",
    "\n",
    "    frame.grid(row=0, column=0, padx=100, pady=100)\n",
    "\n",
    "    \n",
    "    generate_drawing()\n",
    "    \n",
    "    label = tkinter.Label(frame,text='Calidad(0-50)')\n",
    "    label.grid(row=0,column=0)\n",
    "    \n",
    "    label_2 = tkinter.Label(frame)\n",
    "    label_2.grid(row=1,column=0)\n",
    "    \n",
    "    box = tkinter.Entry(frame)\n",
    "    box.grid(row=0,column=1)\n",
    "    \n",
    "    prediction_button = tkinter.Button(frame,text='Predicción del modelo',command=prediction)\n",
    "    prediction_button.grid(row=2,column=0,sticky = \"we\",pady=5)\n",
    "\n",
    "    process_button = tkinter.Button(frame,text='Siguiente',command=process)\n",
    "    process_button.grid(row=2,column=1,sticky = \"we\",pady=5)\n",
    "\n",
    "    \n",
    "    window.mainloop()\n",
    "generator_GUI_with_model()"
   ]
  },
  {
   "cell_type": "code",
   "execution_count": null,
   "metadata": {},
   "outputs": [],
   "source": []
  }
 ],
 "metadata": {
  "kernelspec": {
   "display_name": "Python 3",
   "language": "python",
   "name": "python3"
  },
  "language_info": {
   "codemirror_mode": {
    "name": "ipython",
    "version": 3
   },
   "file_extension": ".py",
   "mimetype": "text/x-python",
   "name": "python",
   "nbconvert_exporter": "python",
   "pygments_lexer": "ipython3",
   "version": "3.8.5"
  }
 },
 "nbformat": 4,
 "nbformat_minor": 4
}
